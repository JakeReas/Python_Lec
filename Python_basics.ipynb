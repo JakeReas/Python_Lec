{
  "nbformat": 4,
  "nbformat_minor": 0,
  "metadata": {
    "colab": {
      "provenance": [],
      "collapsed_sections": [
        "DL5sMSZ9L9eq",
        "EqRS7qhBL9fC",
        "UQnQWFEyL9fP",
        "zav7jDH-tT40",
        "FxSR6BdRtT43",
        "wA-HEpl6tT44",
        "7Lox2GZCMdIB",
        "A-z_kW7y1_yI",
        "S8uuEm4o1_yM",
        "a43Om9xi8mBJ",
        "mbEEvENu8mBP",
        "oByqp9MF8mBQ",
        "w1H68YvB8mBR"
      ],
      "include_colab_link": true
    },
    "kernelspec": {
      "name": "python3",
      "display_name": "Python 3"
    }
  },
  "cells": [
    {
      "cell_type": "markdown",
      "metadata": {
        "id": "view-in-github",
        "colab_type": "text"
      },
      "source": [
        "<a href=\"https://colab.research.google.com/github/JakeReas/Python_Lec/blob/main/Python_basics.ipynb\" target=\"_parent\"><img src=\"https://colab.research.google.com/assets/colab-badge.svg\" alt=\"Open In Colab\"/></a>"
      ]
    },
    {
      "cell_type": "markdown",
      "metadata": {
        "id": "JbVT11Y8CbAu"
      },
      "source": [
        "# Welcome"
      ]
    },
    {
      "cell_type": "markdown",
      "metadata": {
        "id": "kw1B2R_WCU7X"
      },
      "source": [
        "Welcome to the first practical work of the week! In this practical, we will learn about the programming language Python as well as NumPy and Matplotlib, two fundamental tools for data science and machine learning in Python."
      ]
    },
    {
      "cell_type": "markdown",
      "metadata": {
        "id": "YV4sYCn8EPwb"
      },
      "source": [
        "# Notebooks"
      ]
    },
    {
      "cell_type": "markdown",
      "metadata": {
        "id": "2HuuwOcQEYQI"
      },
      "source": [
        "This week, we will use Jupyter notebooks and Google colab as the primary way to practice machine learning. Notebooks are a great way to mix executable code with rich contents (HTML, images, equations written in LaTeX). The document that you are reading is not a static web page, but an interactive environment called a notebook, that lets you write and execute code. Colab allows to run notebooks on the cloud for free without any prior installation, while leveraging the power of [GPUs](https://en.wikipedia.org/wiki/Graphics_processing_unit)."
      ]
    },
    {
      "cell_type": "markdown",
      "metadata": {
        "id": "FvFHjxdiViZj"
      },
      "source": [
        "**What is Google Colab?**\n",
        "\n",
        "Colab is Google's implementation of [Jupyter Notebook](https://jupyter.org/). Like all Jupyter Notebooks, a Colab consists of two kinds of components:\n",
        "\n",
        "  * **Text cells**, which contain explanations. You are currently reading a text cell.\n",
        "  * **Code cells**, which contain Python code for you to run. Code cells have a light gray background. For example, here is a code cell that stores the result of a computation (the number of seconds in a day) in a variable and prints its value:\n",
        "\n",
        "You *read* the text cells and *run* the code cells. \n",
        "\n",
        "**Running code cells**\n",
        "\n",
        "You must run code cells in order. In other words, you may only run a code cell once all the code cells preceding it have already been run. \n",
        "\n",
        "To run a code cell press Shift + Enter or place the cursor anywhere inside the [ ] area at the top left of a code cell. The area inside the [ ] will display an arrow. Click it to run a cell. You can also run all cells by clicking Runtime -> Run all\n",
        "\n",
        "**If you see errors...**\n",
        "\n",
        "The most common reasons for seeing code cell errors are as follows:\n",
        "\n",
        "  * You didn't run *all* of the code cells preceding the current code cell.\n",
        "  * If the code cell is labeled as a **Task**, then:\n",
        "    *  You haven't yet written the code that implements the task.\n",
        "    *  You did write the code, but the code contained errors.\n"
      ]
    },
    {
      "cell_type": "code",
      "metadata": {
        "id": "qeGAvLq1ALJ4",
        "colab": {
          "base_uri": "https://localhost:8080/",
          "height": 34
        },
        "outputId": "da0a439d-bbbe-4bca-ae88-9681dc307b33"
      },
      "source": [
        "seconds_in_a_day = 24 * 60 * 60\n",
        "seconds_in_a_day"
      ],
      "execution_count": null,
      "outputs": [
        {
          "output_type": "execute_result",
          "data": {
            "text/plain": [
              "86400"
            ]
          },
          "metadata": {
            "tags": []
          },
          "execution_count": 63
        }
      ]
    },
    {
      "cell_type": "markdown",
      "metadata": {
        "id": "njoPs3q1G75-"
      },
      "source": [
        "Click on the \"play\" button to execute the cell. You should be able to see the result. Alternatively, you can also execute the cell by pressing Ctrl + Enter if you are on Windows / Linux or Command + Enter if you are on a Mac."
      ]
    },
    {
      "cell_type": "markdown",
      "metadata": {
        "id": "NvdYaBgHHdbw"
      },
      "source": [
        "Variables that you defined in one cell can later be used in other cells:"
      ]
    },
    {
      "cell_type": "code",
      "metadata": {
        "id": "s1kp5Zv0JBSx",
        "colab": {
          "base_uri": "https://localhost:8080/",
          "height": 34
        },
        "outputId": "5c3d203f-046d-4555-d398-36e91dbe685c"
      },
      "source": [
        "seconds_in_a_week = 7 * seconds_in_a_day\n",
        "seconds_in_a_week"
      ],
      "execution_count": null,
      "outputs": [
        {
          "output_type": "execute_result",
          "data": {
            "text/plain": [
              "604800"
            ]
          },
          "metadata": {
            "tags": []
          },
          "execution_count": 20
        }
      ]
    },
    {
      "cell_type": "markdown",
      "metadata": {
        "id": "uALfY4q1JFQ0"
      },
      "source": [
        "Note that the order of execution is important. For instance, if we do not run the cell storing *seconds_in_a_day* beforehand, the above cell will raise an error, as it depends on this variable. To make sure that you run all the cells in the correct order, you can also click on \"Runtime\" in the top-level menu, then \"Run all\"."
      ]
    },
    {
      "cell_type": "markdown",
      "metadata": {
        "id": "HvXs_KaoRWQ9"
      },
      "source": [
        "**Exercise.** Add a cell below this cell: click on this cell then click on \"+ Code\". In the new cell, compute the number of seconds in a year by reusing the variable *seconds_in_a_day*. Run the new cell."
      ]
    },
    {
      "cell_type": "markdown",
      "metadata": {
        "id": "qyLSwlxnJqXX"
      },
      "source": [
        "# Python"
      ]
    },
    {
      "cell_type": "markdown",
      "metadata": {
        "id": "3ltwm91eJyQM"
      },
      "source": [
        "Python is one of the most popular programming languages for machine learning, both in academia and in industry. As such, it is essential to learn this language for anyone interested in machine learning. In this section, we will review Python basics."
      ]
    },
    {
      "cell_type": "markdown",
      "source": [
        "# Data types"
      ],
      "metadata": {
        "id": "oRkcsRLppboE"
      }
    },
    {
      "cell_type": "markdown",
      "metadata": {
        "id": "NwS_hu4xL9eo"
      },
      "source": [
        "### **Basic data types**"
      ]
    },
    {
      "cell_type": "markdown",
      "metadata": {
        "id": "DL5sMSZ9L9eq"
      },
      "source": [
        "#### Numbers"
      ]
    },
    {
      "cell_type": "markdown",
      "metadata": {
        "id": "MGS0XEWoL9er"
      },
      "source": [
        "Integers and floats work as you would expect from other languages:"
      ]
    },
    {
      "cell_type": "code",
      "execution_count": null,
      "metadata": {
        "colab": {
          "base_uri": "https://localhost:8080/",
          "height": 52
        },
        "id": "KheDr_zDL9es",
        "outputId": "1db9f4d3-2e0d-4008-f78a-161ed52c4359"
      },
      "outputs": [
        {
          "name": "stdout",
          "output_type": "stream",
          "text": [
            "3 <class 'int'>\n"
          ]
        }
      ],
      "source": [
        "x = 3\n",
        "print(x, type(x))"
      ]
    },
    {
      "cell_type": "markdown",
      "source": [
        "**Arithmetic operators:** Python supports the usual arithmetic operators: + (addition), * (multiplication), / (division), ** (power), // (integer division).\n",
        "\n"
      ],
      "metadata": {
        "id": "C8f9YVnX5jS4"
      }
    },
    {
      "cell_type": "code",
      "execution_count": null,
      "metadata": {
        "colab": {
          "base_uri": "https://localhost:8080/",
          "height": 86
        },
        "id": "sk_8DFcuL9ey",
        "outputId": "dd60a271-3457-465d-e16a-41acf12a56ab"
      },
      "outputs": [
        {
          "name": "stdout",
          "output_type": "stream",
          "text": [
            "4\n",
            "2\n",
            "6\n",
            "9\n"
          ]
        }
      ],
      "source": [
        "print(x + 1)   # Addition\n",
        "print(x - 1)   # Subtraction\n",
        "print(x * 2)   # Multiplication\n",
        "print(x ** 2)  # Exponentiation"
      ]
    },
    {
      "cell_type": "code",
      "execution_count": null,
      "metadata": {
        "colab": {
          "base_uri": "https://localhost:8080/",
          "height": 52
        },
        "id": "U4Jl8K0tL9e4",
        "outputId": "07e3db14-3781-42b7-8ba6-042b3f9f72ba"
      },
      "outputs": [
        {
          "name": "stdout",
          "output_type": "stream",
          "text": [
            "4\n",
            "8\n"
          ]
        }
      ],
      "source": [
        "x += 1\n",
        "print(x)\n",
        "x *= 2\n",
        "print(x)"
      ]
    },
    {
      "cell_type": "code",
      "execution_count": null,
      "metadata": {
        "colab": {
          "base_uri": "https://localhost:8080/",
          "height": 52
        },
        "id": "w-nZ0Sg_L9e9",
        "outputId": "3aa579f8-9540-46ef-935e-be887781ecb4"
      },
      "outputs": [
        {
          "name": "stdout",
          "output_type": "stream",
          "text": [
            "<class 'float'>\n",
            "2.5 3.5 5.0 6.25\n"
          ]
        }
      ],
      "source": [
        "y = 2.5\n",
        "print(type(y))\n",
        "print(y, y + 1, y * 2, y ** 2)"
      ]
    },
    {
      "cell_type": "markdown",
      "metadata": {
        "id": "r2A9ApyaL9fB"
      },
      "source": [
        "Note that unlike many languages, Python does not have unary increment (x++) or decrement (x--) operators.\n",
        "\n",
        "**Math Functions Excercise: ** Try few math commands (max(value1, value2) , min(value1, value2), sqrt(x), round(x), ceil(x), floor(x))\n",
        "\n",
        "Python also has built-in types for long integers and complex numbers; you can find all of the details in the [documentation](https://docs.python.org/3.7/library/stdtypes.html#numeric-types-int-float-long-complex)."
      ]
    },
    {
      "cell_type": "markdown",
      "metadata": {
        "id": "EqRS7qhBL9fC"
      },
      "source": [
        "#### Booleans"
      ]
    },
    {
      "cell_type": "markdown",
      "metadata": {
        "id": "Nv_LIVOJL9fD"
      },
      "source": [
        "Python implements all of the usual operators for Boolean logic, but uses English words rather than symbols (`&&`, `||`, etc.):"
      ]
    },
    {
      "cell_type": "code",
      "execution_count": null,
      "metadata": {
        "colab": {
          "base_uri": "https://localhost:8080/",
          "height": 34
        },
        "id": "RvoImwgGL9fE",
        "outputId": "1517077b-edca-463f-857b-6a8c386cd387"
      },
      "outputs": [
        {
          "name": "stdout",
          "output_type": "stream",
          "text": [
            "<class 'bool'>\n"
          ]
        }
      ],
      "source": [
        "t, f = True, False\n",
        "print(type(t))"
      ]
    },
    {
      "cell_type": "markdown",
      "metadata": {
        "id": "YQgmQfOgL9fI"
      },
      "source": [
        "Now we let's look at the operations:"
      ]
    },
    {
      "cell_type": "code",
      "execution_count": null,
      "metadata": {
        "colab": {
          "base_uri": "https://localhost:8080/",
          "height": 86
        },
        "id": "6zYm7WzCL9fK",
        "outputId": "f3cebe76-5af4-473a-8127-88a1fd60560f"
      },
      "outputs": [
        {
          "name": "stdout",
          "output_type": "stream",
          "text": [
            "False\n",
            "True\n",
            "False\n",
            "True\n"
          ]
        }
      ],
      "source": [
        "print(t and f) # Logical AND;\n",
        "print(t or f)  # Logical OR;\n",
        "print(not t)   # Logical NOT;\n",
        "print(t != f)  # Logical XOR;"
      ]
    },
    {
      "cell_type": "markdown",
      "metadata": {
        "id": "UQnQWFEyL9fP"
      },
      "source": [
        "#### Strings"
      ]
    },
    {
      "cell_type": "markdown",
      "source": [
        "Strings are used to store text. They can delimited using either single quotes or double quotes"
      ],
      "metadata": {
        "id": "QBA4mtgZ4m-f"
      }
    },
    {
      "cell_type": "code",
      "execution_count": null,
      "metadata": {
        "colab": {
          "base_uri": "https://localhost:8080/",
          "height": 34
        },
        "id": "AijEDtPFL9fP",
        "outputId": "2a6b0cd7-58f1-43cf-e6b7-bf940d532549"
      },
      "outputs": [
        {
          "name": "stdout",
          "output_type": "stream",
          "text": [
            "hello 5\n"
          ]
        }
      ],
      "source": [
        "hello = 'hello'   # String literals can use single quotes\n",
        "world = \"world\"   # or double quotes; it does not matter\n",
        "print(hello, len(hello))"
      ]
    },
    {
      "cell_type": "markdown",
      "metadata": {
        "id": "Irr4xuWu7Znu"
      },
      "source": [
        "Strings behave similarly to lists. As such we can access individual elements in exactly the same way"
      ]
    },
    {
      "cell_type": "code",
      "metadata": {
        "id": "26_POhLO7iM3",
        "colab": {
          "base_uri": "https://localhost:8080/",
          "height": 35
        },
        "outputId": "1c12abe9-6c97-46e3-eb9e-6dd8f9bc14ba"
      },
      "source": [
        "string1 = \"some text\"\n",
        "string2 = 'some other text'\n",
        "string1[3]"
      ],
      "execution_count": null,
      "outputs": [
        {
          "output_type": "execute_result",
          "data": {
            "text/plain": [
              "'e'"
            ],
            "application/vnd.google.colaboratory.intrinsic+json": {
              "type": "string"
            }
          },
          "metadata": {},
          "execution_count": 7
        }
      ]
    },
    {
      "cell_type": "markdown",
      "metadata": {
        "id": "oA_UD0JV7oPw"
      },
      "source": [
        "and similarly for slices"
      ]
    },
    {
      "cell_type": "code",
      "metadata": {
        "id": "dcZFcLqQ7qCe",
        "colab": {
          "base_uri": "https://localhost:8080/",
          "height": 35
        },
        "outputId": "51eceba6-72be-4426-cd9d-5b093bfbb663"
      },
      "source": [
        "string1[5:]"
      ],
      "execution_count": null,
      "outputs": [
        {
          "output_type": "execute_result",
          "data": {
            "text/plain": [
              "'text'"
            ],
            "application/vnd.google.colaboratory.intrinsic+json": {
              "type": "string"
            }
          },
          "metadata": {},
          "execution_count": 8
        }
      ]
    },
    {
      "cell_type": "code",
      "source": [],
      "metadata": {
        "id": "xujw2luJdZp_"
      },
      "execution_count": null,
      "outputs": []
    },
    {
      "cell_type": "markdown",
      "metadata": {
        "id": "hOQ_CIiu76YG"
      },
      "source": [
        "String concatenation is performed using the `+` operator"
      ]
    },
    {
      "cell_type": "code",
      "metadata": {
        "id": "mxqNMKCY79_W",
        "colab": {
          "base_uri": "https://localhost:8080/",
          "height": 35
        },
        "outputId": "948fd441-6012-44bf-ea07-57767a6ab7a7"
      },
      "source": [
        "string1 + \" \" + string2"
      ],
      "execution_count": null,
      "outputs": [
        {
          "output_type": "execute_result",
          "data": {
            "text/plain": [
              "'some text some other text'"
            ],
            "application/vnd.google.colaboratory.intrinsic+json": {
              "type": "string"
            }
          },
          "metadata": {},
          "execution_count": 9
        }
      ]
    },
    {
      "cell_type": "markdown",
      "source": [
        "Some operations on strings also work with other sequence types, both mutable and immutable. \n",
        "For example:\n",
        "     x in s\n",
        "     x not in s"
      ],
      "metadata": {
        "id": "zqRlgBCje6rT"
      }
    },
    {
      "cell_type": "code",
      "source": [
        "'t' in string1"
      ],
      "metadata": {
        "colab": {
          "base_uri": "https://localhost:8080/"
        },
        "id": "zXISPmtZeD1j",
        "outputId": "a01737f0-6c87-4e8f-e965-523258ec8876"
      },
      "execution_count": null,
      "outputs": [
        {
          "output_type": "execute_result",
          "data": {
            "text/plain": [
              "True"
            ]
          },
          "metadata": {},
          "execution_count": 10
        }
      ]
    },
    {
      "cell_type": "code",
      "execution_count": null,
      "metadata": {
        "colab": {
          "base_uri": "https://localhost:8080/",
          "height": 34
        },
        "id": "saDeaA7hL9fT",
        "outputId": "2837d0ab-9ae5-4053-d087-bfa0af81c344"
      },
      "outputs": [
        {
          "name": "stdout",
          "output_type": "stream",
          "text": [
            "hello world\n"
          ]
        }
      ],
      "source": [
        "hw = hello + ' ' + world  # String concatenation\n",
        "print(hw)"
      ]
    },
    {
      "cell_type": "code",
      "execution_count": null,
      "metadata": {
        "colab": {
          "base_uri": "https://localhost:8080/",
          "height": 34
        },
        "id": "Nji1_UjYL9fY",
        "outputId": "0149b0ca-425a-4a34-8e24-8dff7080922e"
      },
      "outputs": [
        {
          "name": "stdout",
          "output_type": "stream",
          "text": [
            "hello world 12\n"
          ]
        }
      ],
      "source": [
        "hw12 = '{} {} {}'.format(hello, world, 12)  # string formatting\n",
        "print(hw12)"
      ]
    },
    {
      "cell_type": "markdown",
      "metadata": {
        "id": "bUpl35bIL9fc"
      },
      "source": [
        "String objects have a bunch of useful methods; for example:"
      ]
    },
    {
      "cell_type": "code",
      "execution_count": null,
      "metadata": {
        "colab": {
          "base_uri": "https://localhost:8080/",
          "height": 121
        },
        "id": "VOxGatlsL9fd",
        "outputId": "ab009df3-8643-4d3e-f85f-a813b70db9cb"
      },
      "outputs": [
        {
          "name": "stdout",
          "output_type": "stream",
          "text": [
            "Hello\n",
            "HELLO\n",
            "  hello\n",
            " hello \n",
            "he(ell)(ell)o\n",
            "world\n"
          ]
        }
      ],
      "source": [
        "s = \"hello\"\n",
        "print(s.capitalize())  # Capitalize a string\n",
        "print(s.upper())       # Convert a string to uppercase; prints \"HELLO\"\n",
        "print(s.rjust(7))      # Right-justify a string, padding with spaces\n",
        "print(s.center(7))     # Center a string, padding with spaces\n",
        "print(s.replace('l', '(ell)'))  # Replace all instances of one substring with another\n",
        "print('  world '.strip())  # Strip leading and trailing whitespace"
      ]
    },
    {
      "cell_type": "markdown",
      "source": [
        "**Excercise**: Try few String commands"
      ],
      "metadata": {
        "id": "U0eWgujBmu9e"
      }
    },
    {
      "cell_type": "markdown",
      "source": [
        "**String modules:**\n",
        "\n",
        "*   A module is a file containing Python definitions, functions, statements.\n",
        "*   Standard library of Python is extended as modules.\n",
        "*   Once we import a module, we can reference or use to any of its functions or variables in our code.\n",
        "*   There is large number of standard modules also available in python.\n",
        "*   Standard modules can be imported the same way as we import our user-defined modules.\n",
        "\n",
        "\n",
        "\n",
        "\n",
        "\n",
        "\n"
      ],
      "metadata": {
        "id": "SHNz2HkodEoL"
      }
    },
    {
      "cell_type": "code",
      "source": [
        "import string\n",
        "\n",
        "print(string.punctuation)\n",
        "\n",
        "print(string.digits)\n",
        "\n",
        "print(string.printable)\n",
        "\n",
        "print(string.capwords(\"happy birthday\"))\n",
        "\n",
        "print(string.hexdigits)\n",
        "\n",
        "print(string.octdigits)"
      ],
      "metadata": {
        "id": "tKRY9MU7cpC7"
      },
      "execution_count": null,
      "outputs": []
    },
    {
      "cell_type": "markdown",
      "metadata": {
        "id": "06cayXLtL9fi"
      },
      "source": [
        "You can find a list of all string methods in the [documentation](https://docs.python.org/3.7/library/stdtypes.html#string-methods)."
      ]
    },
    {
      "cell_type": "markdown",
      "source": [
        "# Containers or Squence Data types"
      ],
      "metadata": {
        "id": "LFtk93odtT4z"
      }
    },
    {
      "cell_type": "markdown",
      "metadata": {
        "id": "m7v2MpaQtT4z"
      },
      "source": [
        "Python includes several built-in container types: lists, dictionaries, sets, and tuples."
      ]
    },
    {
      "cell_type": "markdown",
      "metadata": {
        "id": "91eUVRHCtT4z"
      },
      "source": [
        "#### Lists"
      ]
    },
    {
      "cell_type": "markdown",
      "metadata": {
        "id": "W6Ekf2OVvjDc"
      },
      "source": [
        "Lists are a container type for ordered sequences of elements. A list is the Python equivalent of an array, but is resizeable and can contain elements of different types. Lists are a container type for ordered sequences of elements. Lists can be initialized empty."
      ]
    },
    {
      "cell_type": "code",
      "metadata": {
        "id": "b3jSJGDWvjDd"
      },
      "source": [
        "my_list = []"
      ],
      "execution_count": null,
      "outputs": []
    },
    {
      "cell_type": "markdown",
      "metadata": {
        "id": "7NhUrQqbvjDd"
      },
      "source": [
        "or with some initial elements"
      ]
    },
    {
      "cell_type": "code",
      "metadata": {
        "id": "usPXuA08vjDd"
      },
      "source": [
        "my_list = [1, 2, 3]"
      ],
      "execution_count": null,
      "outputs": []
    },
    {
      "cell_type": "markdown",
      "metadata": {
        "id": "Pem1EWh8vjDd"
      },
      "source": [
        "Lists have a dynamic size and elements can be added (appended) to them"
      ]
    },
    {
      "cell_type": "code",
      "metadata": {
        "colab": {
          "base_uri": "https://localhost:8080/"
        },
        "outputId": "6fdeb10c-a552-4680-dfc4-d607d3502258",
        "id": "NssyI4ykvjDd"
      },
      "source": [
        "my_list.append(4) # Add a new element to the end of the list\n",
        "my_list"
      ],
      "execution_count": null,
      "outputs": [
        {
          "output_type": "execute_result",
          "data": {
            "text/plain": [
              "[1, 2, 3, 4]"
            ]
          },
          "metadata": {},
          "execution_count": 3
        }
      ]
    },
    {
      "cell_type": "markdown",
      "metadata": {
        "id": "RpLVJjVWvjDd"
      },
      "source": [
        "We can access individual elements of a list (indexing starts from 0)"
      ]
    },
    {
      "cell_type": "code",
      "metadata": {
        "colab": {
          "base_uri": "https://localhost:8080/"
        },
        "outputId": "5d2d26ad-1871-4662-cea5-2a722f622aeb",
        "id": "YEb4x_mqvjDd"
      },
      "source": [
        "my_list[2]"
      ],
      "execution_count": null,
      "outputs": [
        {
          "output_type": "execute_result",
          "data": {
            "text/plain": [
              "3"
            ]
          },
          "metadata": {},
          "execution_count": 4
        }
      ]
    },
    {
      "cell_type": "code",
      "execution_count": null,
      "metadata": {
        "colab": {
          "base_uri": "https://localhost:8080/",
          "height": 52
        },
        "outputId": "b545939a-580c-4356-db95-7ad3670b46e4",
        "id": "WMpl88mStT40"
      },
      "outputs": [
        {
          "name": "stdout",
          "output_type": "stream",
          "text": [
            "[3, 1, 2] 2\n",
            "2\n"
          ]
        }
      ],
      "source": [
        "xs = [3, 1, 2]   # Create a list\n",
        "print(xs, xs[2])\n",
        "print(xs[-1])     # Negative indices count from the end of the list; prints \"2\""
      ]
    },
    {
      "cell_type": "code",
      "execution_count": null,
      "metadata": {
        "colab": {
          "base_uri": "https://localhost:8080/",
          "height": 34
        },
        "outputId": "417c54ff-170b-4372-9099-0f756f8e48af",
        "id": "EMUXnJiWtT40"
      },
      "outputs": [
        {
          "name": "stdout",
          "output_type": "stream",
          "text": [
            "[3, 1, 'foo']\n"
          ]
        }
      ],
      "source": [
        "xs[2] = 'foo'    # Lists can contain elements of different types\n",
        "print(xs)"
      ]
    },
    {
      "cell_type": "code",
      "execution_count": null,
      "metadata": {
        "colab": {
          "base_uri": "https://localhost:8080/",
          "height": 34
        },
        "outputId": "a97731a3-70e1-4553-d9e0-2aea227cac80",
        "id": "hhFxrSrstT40"
      },
      "outputs": [
        {
          "name": "stdout",
          "output_type": "stream",
          "text": [
            "[3, 1, 'foo', 'bar']\n"
          ]
        }
      ],
      "source": [
        "xs.append('bar') # Add a new element to the end of the list\n",
        "print(xs)  "
      ]
    },
    {
      "cell_type": "code",
      "execution_count": null,
      "metadata": {
        "colab": {
          "base_uri": "https://localhost:8080/",
          "height": 34
        },
        "outputId": "508fbe59-20aa-48b5-a1b2-f90363e7a104",
        "id": "9aerRzaatT40"
      },
      "outputs": [
        {
          "name": "stdout",
          "output_type": "stream",
          "text": [
            "bar [3, 1, 'foo']\n"
          ]
        }
      ],
      "source": [
        "x = xs.pop()     # Remove and return the last element of the list\n",
        "print(x, xs)"
      ]
    },
    {
      "cell_type": "markdown",
      "metadata": {
        "id": "-keHWAdXuOYD"
      },
      "source": [
        "We can check if an element is in the list using `in`"
      ]
    },
    {
      "cell_type": "code",
      "metadata": {
        "colab": {
          "base_uri": "https://localhost:8080/"
        },
        "outputId": "12383dbd-87c3-4ec1-b416-199bac6282ed",
        "id": "hrHQvOWhuOYE"
      },
      "source": [
        "my_list = [1, 2, 3, 4]\n",
        "5 in my_list"
      ],
      "execution_count": null,
      "outputs": [
        {
          "output_type": "execute_result",
          "data": {
            "text/plain": [
              "False"
            ]
          },
          "metadata": {},
          "execution_count": 7
        }
      ]
    },
    {
      "cell_type": "markdown",
      "metadata": {
        "id": "_ybWNqVquOYE"
      },
      "source": [
        "The length of a list can be obtained using the `len` function"
      ]
    },
    {
      "cell_type": "code",
      "metadata": {
        "colab": {
          "base_uri": "https://localhost:8080/"
        },
        "outputId": "4b4dea6f-326c-4a81-b78b-825b224b626b",
        "id": "0idrfpA8uOYE"
      },
      "source": [
        "len(my_list)"
      ],
      "execution_count": null,
      "outputs": [
        {
          "output_type": "execute_result",
          "data": {
            "text/plain": [
              "4"
            ]
          },
          "metadata": {},
          "execution_count": 8
        }
      ]
    },
    {
      "cell_type": "markdown",
      "metadata": {
        "id": "zav7jDH-tT40"
      },
      "source": [
        "#### Slicing"
      ]
    },
    {
      "cell_type": "markdown",
      "metadata": {
        "id": "9WnGGGzctT40"
      },
      "source": [
        "In addition to accessing list elements one at a time, Python provides concise syntax to access sublists; this is known as slicing. We can access \"slices\" of a list using my_list[i:j] where i is the start of the slice (again, indexing starts from 0) and j the end of the slice."
      ]
    },
    {
      "cell_type": "code",
      "execution_count": null,
      "metadata": {
        "colab": {
          "base_uri": "https://localhost:8080/"
        },
        "outputId": "dd56b0bd-0d3a-4c55-9cec-874325b7acd4",
        "id": "aAbwPKl6tT40"
      },
      "outputs": [
        {
          "output_type": "stream",
          "name": "stdout",
          "text": [
            "[0, 1, 2, 3, 4]\n",
            "[2, 3]\n",
            "[2, 3, 4]\n",
            "[0, 1]\n",
            "[0, 1, 2, 3, 4]\n",
            "[0, 1, 2, 3]\n",
            "[1, 2, 3]\n",
            "[0, 1, 8, 9, 4]\n"
          ]
        }
      ],
      "source": [
        "nums = list(range(5))    # range is a built-in function that creates a list of integers\n",
        "print(nums)         # Prints \"[0, 1, 2, 3, 4]\"\n",
        "print(nums[2:4])    # Get a slice from index 2 to 4 (exclusive); prints \"[2, 3]\"\n",
        "print(nums[2:])     # Get a slice from index 2 to the end; prints \"[2, 3, 4]\"\n",
        "print(nums[:2])     # Get a slice from the start to index 2 (exclusive); prints \"[0, 1]\"\n",
        "print(nums[:])      # Get a slice of the whole list; prints [\"0, 1, 2, 3, 4]\"\n",
        "print(nums[:-1])    # Slice indices can be negative; prints [\"0, 1, 2, 3]\"\n",
        "print(nums[-4:-1])  # Slice indices can be negative; prints \"[1, 2, 3]\"\n",
        "nums[2:4] = [8, 9] # Assign a new sublist to a slice\n",
        "print(nums)         # Prints \"[0, 1, 8, 9, 4]\""
      ]
    },
    {
      "cell_type": "markdown",
      "metadata": {
        "id": "EJ6uJqKbtT41"
      },
      "source": [
        "#### Loops"
      ]
    },
    {
      "cell_type": "markdown",
      "metadata": {
        "id": "B5ATr_gGtT41"
      },
      "source": [
        "You can loop over the elements of a list like this:"
      ]
    },
    {
      "cell_type": "code",
      "execution_count": null,
      "metadata": {
        "colab": {
          "base_uri": "https://localhost:8080/",
          "height": 69
        },
        "outputId": "560e46c7-279c-409a-838c-64bea8d321c4",
        "id": "sy4UVNHjtT42"
      },
      "outputs": [
        {
          "name": "stdout",
          "output_type": "stream",
          "text": [
            "cat\n",
            "dog\n",
            "monkey\n"
          ]
        }
      ],
      "source": [
        "animals = ['cat', 'dog', 'monkey']\n",
        "for animal in animals:\n",
        "    print(animal)"
      ]
    },
    {
      "cell_type": "markdown",
      "metadata": {
        "id": "nauZf6uCtT42"
      },
      "source": [
        "If you want access to the index of each element within the body of a loop, use the built-in `enumerate` function:"
      ]
    },
    {
      "cell_type": "code",
      "execution_count": null,
      "metadata": {
        "colab": {
          "base_uri": "https://localhost:8080/",
          "height": 69
        },
        "outputId": "81421905-17ea-4c5a-bcc0-176de19fd9bd",
        "id": "91f_uRODtT42"
      },
      "outputs": [
        {
          "name": "stdout",
          "output_type": "stream",
          "text": [
            "#1: cat\n",
            "#2: dog\n",
            "#3: monkey\n"
          ]
        }
      ],
      "source": [
        "animals = ['cat', 'dog', 'monkey']\n",
        "for idx, animal in enumerate(animals):\n",
        "    print('#{}: {}'.format(idx + 1, animal))"
      ]
    },
    {
      "cell_type": "markdown",
      "metadata": {
        "id": "AWJHucbhtT42"
      },
      "source": [
        "#### List comprehensions"
      ]
    },
    {
      "cell_type": "markdown",
      "source": [
        "***Comprehensions in Python provide us with a short and concise way to construct new sequences (such as lists, set, dictionary etc***.)\n",
        "\n",
        "List (or any sequence data type) comprehension is an elegant and concise way to create a new List from an iterable in Python. List comprehension consists of an expression list name followed by a for statement inside square bracket [ ] (in case of dictionary it is curly brackets {}).\n",
        "\n",
        "Here is an example to make a list with each item being a pair of a number and its square."
      ],
      "metadata": {
        "id": "nqU5ybTJCgY_"
      }
    },
    {
      "cell_type": "markdown",
      "metadata": {
        "id": "7nkMJxRDtT42"
      },
      "source": [
        "When programming, frequently we want to transform one type of data into another. As a simple example, consider the following code that computes square numbers:"
      ]
    },
    {
      "cell_type": "code",
      "execution_count": null,
      "metadata": {
        "colab": {
          "base_uri": "https://localhost:8080/",
          "height": 34
        },
        "outputId": "d571445b-055d-45f0-f800-24fd76ceec5a",
        "id": "0KZOQFDRtT42"
      },
      "outputs": [
        {
          "name": "stdout",
          "output_type": "stream",
          "text": [
            "[0, 1, 4, 9, 16]\n"
          ]
        }
      ],
      "source": [
        "nums = [0, 1, 2, 3, 4]\n",
        "squares = []\n",
        "for x in nums:\n",
        "    squares.append(x ** 2)\n",
        "print(squares)"
      ]
    },
    {
      "cell_type": "markdown",
      "metadata": {
        "id": "xXbAqeRNtT42"
      },
      "source": [
        "You can make this code simpler using a list comprehension:"
      ]
    },
    {
      "cell_type": "code",
      "execution_count": null,
      "metadata": {
        "colab": {
          "base_uri": "https://localhost:8080/",
          "height": 34
        },
        "outputId": "4254a7d4-58ba-4f70-a963-20c46b485b72",
        "id": "NxnpwnfFtT42"
      },
      "outputs": [
        {
          "name": "stdout",
          "output_type": "stream",
          "text": [
            "[0, 1, 4, 9, 16]\n"
          ]
        }
      ],
      "source": [
        "nums = [0, 1, 2, 3, 4]\n",
        "squares = [x ** 2 for x in nums]\n",
        "print(squares)"
      ]
    },
    {
      "cell_type": "markdown",
      "metadata": {
        "id": "LSp1hXhBtT42"
      },
      "source": [
        "List comprehensions can also contain conditions:"
      ]
    },
    {
      "cell_type": "code",
      "execution_count": null,
      "metadata": {
        "colab": {
          "base_uri": "https://localhost:8080/",
          "height": 34
        },
        "outputId": "1ae7ab58-8119-44dc-8e57-fda09197d026",
        "id": "DK-wPkgotT43"
      },
      "outputs": [
        {
          "name": "stdout",
          "output_type": "stream",
          "text": [
            "[0, 4, 16]\n"
          ]
        }
      ],
      "source": [
        "nums = [0, 1, 2, 3, 4]\n",
        "even_squares = [x ** 2 for x in nums if x % 2 == 0]\n",
        "print(even_squares)"
      ]
    },
    {
      "cell_type": "markdown",
      "metadata": {
        "id": "-j2D-6PktT40"
      },
      "source": [
        "As usual, you can find all the gory details about lists in the [documentation](https://docs.python.org/3.7/tutorial/datastructures.html#more-on-lists)."
      ]
    },
    {
      "cell_type": "markdown",
      "metadata": {
        "id": "FxSR6BdRtT43"
      },
      "source": [
        "#### Dictionaries"
      ]
    },
    {
      "cell_type": "markdown",
      "metadata": {
        "id": "RpHR1QT2tT43"
      },
      "source": [
        "Dictionary is an unordered collection of elements. An element in dictionary has a key: value pair.\n",
        "\n",
        "1.  All elements in dictionary are placed inside the curly braces i.e. { }\n",
        "2.  Elements in Dictionaries are accessed via keys and not by their position.\n",
        "3.  The values of a dictionary can be any data type.\n",
        "4.  Keys must be immutable data type (numbers, strings, tuple) "
      ]
    },
    {
      "cell_type": "code",
      "execution_count": null,
      "metadata": {
        "colab": {
          "base_uri": "https://localhost:8080/",
          "height": 52
        },
        "outputId": "8e24c1da-0fc0-4b4c-a3e6-6f758a53b7da",
        "id": "JiyBepXrtT43"
      },
      "outputs": [
        {
          "name": "stdout",
          "output_type": "stream",
          "text": [
            "cute\n",
            "True\n"
          ]
        }
      ],
      "source": [
        "d = {'cat': 'cute', 'dog': 'furry'}  # Create a new dictionary with some data\n",
        "print(d['cat'])       # Get an entry from a dictionary; prints \"cute\"\n",
        "print('cat' in d)     # Check if a dictionary has a given key; prints \"True\""
      ]
    },
    {
      "cell_type": "code",
      "execution_count": null,
      "metadata": {
        "colab": {
          "base_uri": "https://localhost:8080/",
          "height": 34
        },
        "outputId": "feb4bf18-c0a3-42a2-eaf5-3fc390f36dcf",
        "id": "VCy9V4VOtT43"
      },
      "outputs": [
        {
          "name": "stdout",
          "output_type": "stream",
          "text": [
            "wet\n"
          ]
        }
      ],
      "source": [
        "d['fish'] = 'wet'    # Set an entry in a dictionary\n",
        "print(d['fish'])      # Prints \"wet\""
      ]
    },
    {
      "cell_type": "code",
      "execution_count": null,
      "metadata": {
        "colab": {
          "base_uri": "https://localhost:8080/",
          "height": 165
        },
        "outputId": "7e42a5f0-1856-4608-a927-0930ab37a66c",
        "id": "ogVGd8PXtT43"
      },
      "outputs": [
        {
          "ename": "KeyError",
          "evalue": "'monkey'",
          "output_type": "error",
          "traceback": [
            "\u001b[0;31m---------------------------------------------------------------------------\u001b[0m",
            "\u001b[0;31mKeyError\u001b[0m                                  Traceback (most recent call last)",
            "\u001b[0;32m<ipython-input-26-78fc9745d9cf>\u001b[0m in \u001b[0;36m<module>\u001b[0;34m\u001b[0m\n\u001b[0;32m----> 1\u001b[0;31m \u001b[0mprint\u001b[0m\u001b[0;34m(\u001b[0m\u001b[0md\u001b[0m\u001b[0;34m[\u001b[0m\u001b[0;34m'monkey'\u001b[0m\u001b[0;34m]\u001b[0m\u001b[0;34m)\u001b[0m  \u001b[0;31m# KeyError: 'monkey' not a key of d\u001b[0m\u001b[0;34m\u001b[0m\u001b[0;34m\u001b[0m\u001b[0m\n\u001b[0m",
            "\u001b[0;31mKeyError\u001b[0m: 'monkey'"
          ]
        }
      ],
      "source": [
        "print(d['monkey'])  # KeyError: 'monkey' not a key of d"
      ]
    },
    {
      "cell_type": "code",
      "execution_count": null,
      "metadata": {
        "colab": {
          "base_uri": "https://localhost:8080/",
          "height": 52
        },
        "outputId": "ef14d05e-401d-4d23-ed1a-0fe6b4c77d6f",
        "id": "mqvKwiLBtT43"
      },
      "outputs": [
        {
          "name": "stdout",
          "output_type": "stream",
          "text": [
            "N/A\n",
            "wet\n"
          ]
        }
      ],
      "source": [
        "print(d.get('monkey', 'N/A'))  # Get an element with a default; prints \"N/A\"\n",
        "print(d.get('fish', 'N/A'))    # Get an element with a default; prints \"wet\""
      ]
    },
    {
      "cell_type": "code",
      "execution_count": null,
      "metadata": {
        "colab": {
          "base_uri": "https://localhost:8080/",
          "height": 34
        },
        "outputId": "652a950f-b0c2-4623-98bd-0191b300cd57",
        "id": "cl7_xmnktT43"
      },
      "outputs": [
        {
          "name": "stdout",
          "output_type": "stream",
          "text": [
            "N/A\n"
          ]
        }
      ],
      "source": [
        "del d['fish']        # Remove an element from a dictionary\n",
        "print(d.get('fish', 'N/A')) # \"fish\" is no longer a key; prints \"N/A\""
      ]
    },
    {
      "cell_type": "markdown",
      "metadata": {
        "id": "t5wKZiKntT43"
      },
      "source": [
        "**Looping through a dictionary**\n",
        "\n",
        "Since dictionaries are really about connecting bits of information, you will often use them in the ways described above, where you add key-value pairs whenever you receive some new information, and then you retrieve the key-value pairs that you care about. Sometimes, however, you will want to loop through the entire dictionary. There are several ways to do this:\n",
        "\n",
        "1. You can loop through all key-value pairs;\n",
        "2. You can loop through the keys, and pull out the values for any keys that you care about;\n",
        "3. You can loop through the values.\n",
        "\n",
        "**Looping through all key-value pairs**\n",
        "\n",
        "This is the kind of loop that was shown in the first example. Here's what this loop looks like, in a general format:\n"
      ]
    },
    {
      "cell_type": "code",
      "execution_count": null,
      "metadata": {
        "colab": {
          "base_uri": "https://localhost:8080/",
          "height": 69
        },
        "outputId": "155bdb17-3179-4292-c832-8166e955e942",
        "id": "ibARUnr8tT44"
      },
      "outputs": [
        {
          "name": "stdout",
          "output_type": "stream",
          "text": [
            "A person has 2 legs\n",
            "A cat has 4 legs\n",
            "A spider has 8 legs\n"
          ]
        }
      ],
      "source": [
        "# Example 1\n",
        "my_dict = {'key_1': 'value_1',\n",
        "    'key_2': 'value_2',\n",
        "    'key_3': 'value_3',\n",
        "    }\n",
        "\n",
        "for key, value in my_dict.items():\n",
        "    print('\\nKey: %s' % key)\n",
        "    print('Value: %s' % value)\n"
      ]
    },
    {
      "cell_type": "code",
      "source": [
        "# Example 2\n",
        "my_dict = {'key_1': 'value_1',\n",
        "    'key_2': 'value_2',\n",
        "    'key_3': 'value_3',\n",
        "    }\n",
        "\n",
        "print(my_dict.items())\n"
      ],
      "metadata": {
        "id": "nwdc2CYuPFhB"
      },
      "execution_count": null,
      "outputs": []
    },
    {
      "cell_type": "code",
      "source": [
        "# Example 3\n",
        "python_words = {'list': 'A collection of values that are not connected, but have an order.',\n",
        "                'dictionary': 'A collection of key-value pairs.',\n",
        "                'function': 'A named set of instructions that defines a set of actions in Python.',\n",
        "                }\n",
        "\n",
        "for word, meaning in python_words.items():\n",
        "    print(\"\\nWord: %s\" % word)\n",
        "    print(\"Meaning: %s\" % meaning)"
      ],
      "metadata": {
        "colab": {
          "base_uri": "https://localhost:8080/"
        },
        "id": "Ok2U9heAPbiB",
        "outputId": "0c27a9a6-73b7-4f02-f922-e5b2b5504c4c"
      },
      "execution_count": null,
      "outputs": [
        {
          "output_type": "stream",
          "name": "stdout",
          "text": [
            "\n",
            "Word: list\n",
            "Meaning: A collection of values that are not connected, but have an order.\n",
            "\n",
            "Word: dictionary\n",
            "Meaning: A collection of key-value pairs.\n",
            "\n",
            "Word: function\n",
            "Meaning: A named set of instructions that defines a set of actions in Python.\n"
          ]
        }
      ]
    },
    {
      "cell_type": "code",
      "source": [
        "# Example 4\n",
        "d = {'person': 2, 'cat': 4, 'spider': 8}\n",
        "for animal, legs in d.items():\n",
        "    print('A {} has {} legs'.format(animal, legs))"
      ],
      "metadata": {
        "id": "ATsKeJj4PKbZ"
      },
      "execution_count": null,
      "outputs": []
    },
    {
      "cell_type": "markdown",
      "source": [
        "**Looping through all keys in a dictionary**"
      ],
      "metadata": {
        "id": "x8Nbus69Pzz6"
      }
    },
    {
      "cell_type": "code",
      "source": [
        "my_dict = {'key_1': 'value_1',\n",
        "    'key_2': 'value_2',\n",
        "    'key_3': 'value_3',\n",
        "    }\n",
        "\n",
        "for key in my_dict.keys():\n",
        "    print('Key: %s' % key)\n",
        "\n",
        "# try all above examples for keys() "
      ],
      "metadata": {
        "colab": {
          "base_uri": "https://localhost:8080/"
        },
        "id": "mxveGO0UPoKZ",
        "outputId": "813cdd8f-922f-422f-cd3f-566bb3ee1cb1"
      },
      "execution_count": null,
      "outputs": [
        {
          "output_type": "stream",
          "name": "stdout",
          "text": [
            "Key: key_1\n",
            "Key: key_2\n",
            "Key: key_3\n"
          ]
        }
      ]
    },
    {
      "cell_type": "code",
      "source": [
        "# Looping through a dictionary in order\n",
        "for word in sorted(python_words.keys()):\n",
        "    print(word)"
      ],
      "metadata": {
        "colab": {
          "base_uri": "https://localhost:8080/"
        },
        "id": "flWKpFgaRGoi",
        "outputId": "8636ac62-313f-458c-efdd-d0bfae29a262"
      },
      "execution_count": null,
      "outputs": [
        {
          "output_type": "stream",
          "name": "stdout",
          "text": [
            "dictionary\n",
            "function\n",
            "list\n"
          ]
        }
      ]
    },
    {
      "cell_type": "code",
      "source": [
        "# alternativaly\n",
        "for word in sorted(python_words.keys()):\n",
        "    print(\"%s: %s\" % (word.title(), python_words[word]))"
      ],
      "metadata": {
        "colab": {
          "base_uri": "https://localhost:8080/"
        },
        "id": "_Wk9-ihbR38g",
        "outputId": "fd1dbf9e-b5d7-475c-ed95-9ce4239bd412"
      },
      "execution_count": null,
      "outputs": [
        {
          "output_type": "stream",
          "name": "stdout",
          "text": [
            "Dictionary: A collection of key-value pairs.\n",
            "Function: A named set of instructions that defines a set of actions in Python.\n",
            "List: A collection of values that are not connected, but have an order.\n"
          ]
        }
      ]
    },
    {
      "cell_type": "markdown",
      "source": [
        "**Looping through all values in a dictionary**"
      ],
      "metadata": {
        "id": "i82Bv9wPQE6g"
      }
    },
    {
      "cell_type": "code",
      "source": [
        "my_dict = {'key_1': 'value_1',\n",
        "    'key_2': 'value_2',\n",
        "    'key_3': 'value_3',\n",
        "    }\n",
        "\n",
        "for value in my_dict.values():\n",
        "    print('Value: %s' % value)\n",
        "# try all items() examples for keys() \n"
      ],
      "metadata": {
        "id": "BrcXekToQEKY"
      },
      "execution_count": null,
      "outputs": []
    },
    {
      "cell_type": "markdown",
      "metadata": {
        "id": "TZaDdk1ytT44"
      },
      "source": [
        "Dictionary comprehensions: These are similar to list comprehensions, but allow you to easily construct dictionaries. For example:"
      ]
    },
    {
      "cell_type": "code",
      "execution_count": null,
      "metadata": {
        "colab": {
          "base_uri": "https://localhost:8080/",
          "height": 34
        },
        "outputId": "e9ddf886-39ed-4f35-dd80-64a19d2eec9b",
        "id": "rQgX6dXNtT44"
      },
      "outputs": [
        {
          "name": "stdout",
          "output_type": "stream",
          "text": [
            "{0: 0, 2: 4, 4: 16}\n"
          ]
        }
      ],
      "source": [
        "nums = [0, 1, 2, 3, 4]\n",
        "even_num_to_square = {x: x ** 2 for x in nums if x % 2 == 0}\n",
        "print(even_num_to_square)"
      ]
    },
    {
      "cell_type": "markdown",
      "metadata": {
        "id": "8l02pk7StT43"
      },
      "source": [
        "You can find all you need to know about dictionaries in the [documentation](https://docs.python.org/2/library/stdtypes.html#dict)."
      ]
    },
    {
      "cell_type": "markdown",
      "metadata": {
        "id": "IRiosi-U3TPt"
      },
      "source": [
        "**Exercises:**\n",
        "The Albums <b>Back in Black</b>, <b>The Bodyguard</b> and <b>Thriller</b> have the following music recording sales in millions 50, 50 and 65 respectively:"
      ]
    },
    {
      "cell_type": "markdown",
      "metadata": {
        "id": "XURujbIn3TPu"
      },
      "source": [
        "a) Create a dictionary <code>album_sales_dict</code> where the keys are the album name and the sales in millions are the values. "
      ]
    },
    {
      "cell_type": "code",
      "metadata": {
        "jupyter": {
          "outputs_hidden": true
        },
        "id": "s25GkqAx3TPu"
      },
      "source": [
        "# Write your code below and press Shift+Enter to execute"
      ],
      "execution_count": null,
      "outputs": []
    },
    {
      "cell_type": "markdown",
      "metadata": {
        "id": "UDnRl0Ac3TP1"
      },
      "source": [
        "b) Use the dictionary to find the total sales of <b>Thriller</b>:"
      ]
    },
    {
      "cell_type": "code",
      "metadata": {
        "jupyter": {
          "outputs_hidden": false
        },
        "id": "VlXGq-ii3TP2"
      },
      "source": [
        "# Write your code below and press Shift+Enter to execute"
      ],
      "execution_count": null,
      "outputs": []
    },
    {
      "cell_type": "markdown",
      "metadata": {
        "id": "MuRQrd243TP-"
      },
      "source": [
        "c) Find the names of the albums from the dictionary using the method <code>keys</code>:"
      ]
    },
    {
      "cell_type": "code",
      "metadata": {
        "jupyter": {
          "outputs_hidden": false
        },
        "id": "VGN95Hoc3TQB"
      },
      "source": [
        "# Write your code below and press Shift+Enter to execute"
      ],
      "execution_count": null,
      "outputs": []
    },
    {
      "cell_type": "markdown",
      "metadata": {
        "id": "bxKIx6fI3TQJ"
      },
      "source": [
        "d) Find the names of the recording sales from the dictionary using the method <code>values</code>:"
      ]
    },
    {
      "cell_type": "code",
      "metadata": {
        "jupyter": {
          "outputs_hidden": false
        },
        "id": "m69DXHji3TQK"
      },
      "source": [
        "# Write your code below and press Shift+Enter to execute"
      ],
      "execution_count": null,
      "outputs": []
    },
    {
      "cell_type": "markdown",
      "source": [
        "**Exercises**\n",
        "\n",
        "**Mountain Heights**\n",
        "\n",
        "Wikipedia has a list of the tallest mountains (refer https://en.wikipedia.org/wiki/List_of_mountains_by_elevation ) in the world, with each mountain's elevation. Pick five mountains from this list.\n",
        "\n",
        "1. Create a dictionary with the mountain names as keys, and the elevations as \n",
        "values.\n",
        "2. Print out just the mountains' names, by looping through the keys of your dictionary.\n",
        "3. Print out just the mountains' elevations, by looping through the values of your dictionary.\n",
        "4. Print out a series of statements telling how tall each mountain is: \"Everest is 8848 meters tall.\"\n",
        "\n",
        "**Revise your output, if necessary.**\n",
        "\n",
        "1. Make sure there is an introductory sentence describing the output for each loop you write.\n",
        "2. Make sure there is a blank line between each group of statements.\n",
        "Mountain Heights 2\n",
        "\n",
        "**Revise your final output from Mountain Heights**, so that the information is listed in alphabetical order by each mountain's name.\n",
        "\n",
        "That is, print out a series of statements telling how tall each mountain is: \"Everest is 8848 meters tall.\"\n",
        "\n",
        "Make sure your output is in alphabetical order."
      ],
      "metadata": {
        "id": "lrTEKj8zNO4Q"
      }
    },
    {
      "cell_type": "markdown",
      "metadata": {
        "id": "wA-HEpl6tT44"
      },
      "source": [
        "#### Sets -- Addtional for self learning"
      ]
    },
    {
      "cell_type": "markdown",
      "metadata": {
        "id": "Yw2w-xVdtT44"
      },
      "source": [
        "A set is an unordered collection of distinct elements. As a simple example, consider the following:"
      ]
    },
    {
      "cell_type": "code",
      "execution_count": null,
      "metadata": {
        "colab": {
          "base_uri": "https://localhost:8080/",
          "height": 52
        },
        "outputId": "8f152d48-0a07-432a-cf98-8de4fd57ddbb",
        "id": "4RQ_Z4JrtT44"
      },
      "outputs": [
        {
          "name": "stdout",
          "output_type": "stream",
          "text": [
            "True\n",
            "False\n"
          ]
        }
      ],
      "source": [
        "animals = {'cat', 'dog'}\n",
        "print('cat' in animals)   # Check if an element is in a set; prints \"True\"\n",
        "print('fish' in animals)  # prints \"False\"\n"
      ]
    },
    {
      "cell_type": "code",
      "execution_count": null,
      "metadata": {
        "colab": {
          "base_uri": "https://localhost:8080/",
          "height": 52
        },
        "outputId": "b9d7dab9-5a98-41cd-efbc-786d0c4377f7",
        "id": "u6muPgcztT44"
      },
      "outputs": [
        {
          "name": "stdout",
          "output_type": "stream",
          "text": [
            "True\n",
            "3\n"
          ]
        }
      ],
      "source": [
        "animals.add('fish')      # Add an element to a set\n",
        "print('fish' in animals)\n",
        "print(len(animals))       # Number of elements in a set;"
      ]
    },
    {
      "cell_type": "code",
      "execution_count": null,
      "metadata": {
        "colab": {
          "base_uri": "https://localhost:8080/",
          "height": 52
        },
        "outputId": "e644d24c-26c6-4b43-ab15-8aa81fe884d4",
        "id": "mgT07AsjtT44"
      },
      "outputs": [
        {
          "name": "stdout",
          "output_type": "stream",
          "text": [
            "3\n",
            "2\n"
          ]
        }
      ],
      "source": [
        "animals.add('cat')       # Adding an element that is already in the set does nothing\n",
        "print(len(animals))       \n",
        "animals.remove('cat')    # Remove an element from a set\n",
        "print(len(animals))       "
      ]
    },
    {
      "cell_type": "markdown",
      "metadata": {
        "id": "swDCF9URtT44"
      },
      "source": [
        "*Loops*: Iterating over a set has the same syntax as iterating over a list; however since sets are unordered, you cannot make assumptions about the order in which you visit the elements of the set:"
      ]
    },
    {
      "cell_type": "code",
      "execution_count": null,
      "metadata": {
        "colab": {
          "base_uri": "https://localhost:8080/",
          "height": 69
        },
        "outputId": "4477f897-4355-4816-b39b-b93ffbac4bf0",
        "id": "xksbbO5xtT44"
      },
      "outputs": [
        {
          "name": "stdout",
          "output_type": "stream",
          "text": [
            "#1: dog\n",
            "#2: fish\n",
            "#3: cat\n"
          ]
        }
      ],
      "source": [
        "animals = {'cat', 'dog', 'fish'}\n",
        "for idx, animal in enumerate(animals):\n",
        "    print('#{}: {}'.format(idx + 1, animal))"
      ]
    },
    {
      "cell_type": "markdown",
      "metadata": {
        "id": "fb0JnCg7tT45"
      },
      "source": [
        "Set comprehensions: Like lists and dictionaries, we can easily construct sets using set comprehensions:"
      ]
    },
    {
      "cell_type": "code",
      "execution_count": null,
      "metadata": {
        "colab": {
          "base_uri": "https://localhost:8080/",
          "height": 34
        },
        "outputId": "72d6b824-6d31-47b2-f929-4cf434590ee5",
        "id": "yM-PF3mNtT45"
      },
      "outputs": [
        {
          "name": "stdout",
          "output_type": "stream",
          "text": [
            "{0, 1, 2, 3, 4, 5}\n"
          ]
        }
      ],
      "source": [
        "from math import sqrt\n",
        "print({int(sqrt(x)) for x in range(30)})"
      ]
    },
    {
      "cell_type": "markdown",
      "metadata": {
        "id": "TDSu7ZeItT45"
      },
      "source": [
        "#### Tuples"
      ]
    },
    {
      "cell_type": "markdown",
      "source": [
        "A tuple is an (immutable) ordered list of values. Tuples are identical to lists in all respects, except for the following properties:\n",
        "\n",
        "1. Tuples are defined by enclosing the elements in parentheses (()) instead of square brackets ([ ]).\n",
        "2. Tuples are immutable.\n",
        "3. Tuples can be used as keys in dictionaries and as elements of sets, while lists cannot.\n",
        "\n",
        "Here is a short example showing a tuple definition, indexing, and slicing:"
      ],
      "metadata": {
        "id": "ZxhtBQMMrSOV"
      }
    },
    {
      "cell_type": "code",
      "source": [
        "t = ('foo', 'bar', 'baz', 'qux', 'quux', 'corge')\n",
        "t\n",
        "t[0]\n",
        "t[-1]\n",
        "t[1::2]\n",
        "t[::-1]"
      ],
      "metadata": {
        "id": "9ad06_3dqhMD"
      },
      "execution_count": null,
      "outputs": []
    },
    {
      "cell_type": "code",
      "execution_count": null,
      "metadata": {
        "colab": {
          "base_uri": "https://localhost:8080/",
          "height": 165
        },
        "outputId": "28862bfc-0298-40d7-f8c4-168e109d2d93",
        "id": "cgUcjJXVtT45"
      },
      "outputs": [
        {
          "ename": "TypeError",
          "evalue": "'tuple' object does not support item assignment",
          "output_type": "error",
          "traceback": [
            "\u001b[0;31m---------------------------------------------------------------------------\u001b[0m",
            "\u001b[0;31mTypeError\u001b[0m                                 Traceback (most recent call last)",
            "\u001b[0;32m<ipython-input-38-c8aeb8cd20ae>\u001b[0m in \u001b[0;36m<module>\u001b[0;34m\u001b[0m\n\u001b[0;32m----> 1\u001b[0;31m \u001b[0mt\u001b[0m\u001b[0;34m[\u001b[0m\u001b[0;36m0\u001b[0m\u001b[0;34m]\u001b[0m \u001b[0;34m=\u001b[0m \u001b[0;36m1\u001b[0m\u001b[0;34m\u001b[0m\u001b[0;34m\u001b[0m\u001b[0m\n\u001b[0m",
            "\u001b[0;31mTypeError\u001b[0m: 'tuple' object does not support item assignment"
          ]
        }
      ],
      "source": [
        "t[0] = 1"
      ]
    },
    {
      "cell_type": "markdown",
      "source": [
        "**List inside Tuple**"
      ],
      "metadata": {
        "id": "3Jr_28LCsowN"
      }
    },
    {
      "cell_type": "code",
      "source": [
        "tempTuple = ('Welcome', 'to', 'interview', 'bit.', 'Have', 'a', 'great', 'day', [1, 2, 3])\n",
        "# tempTuple[0] = 'Hello' # throws type error, tuple object does not support type assignment.\n",
        "tempTuple[8].append(4) # appending a new integer i.e. 4 in a list at 8th index of the tuple ‘tempTuple’\n",
        "# Printing the list at 8th index in the tuple\n",
        "print(tempTuple[8]) # OUTPUT: [1, 2, 3, 4]\n",
        "tempTuple[8].pop(3) # popping element at 3rd index from the list i.e. 8th index of the tuple 'tempTuple'\n",
        "# Printing the list at 8th index in the tuple\n",
        "print(tempTuple[8]) # OUTPUT: [1, 2, 3]\n",
        "tempTuple = (1, 2, 3) # Assigning tuple all over again\n",
        "# Printing the tuple\n",
        "print(tempTuple) # OUTPUT: (1, 2, 3)"
      ],
      "metadata": {
        "id": "R0EcjPXjstr0"
      },
      "execution_count": null,
      "outputs": []
    },
    {
      "cell_type": "markdown",
      "source": [
        "**Deleting Tuple**"
      ],
      "metadata": {
        "id": "T5SD2lCWs9iV"
      }
    },
    {
      "cell_type": "code",
      "source": [
        "tempTuple = (1, 2, 3, 4, 5)\n",
        "# tempTuple.pop() # throws error as object has no attribute pop\n",
        "# del tempTuple[3] # throws error as tuple does not support object deletion\n",
        "print(tempTuple) # OUTPUT: (1, 2, 3, 4, 5)\n",
        "del tempTuple\n",
        "print(tempTuple) # throws NameError: name 'tempTuple' is not defined"
      ],
      "metadata": {
        "id": "3rIuY7YatBvN"
      },
      "execution_count": null,
      "outputs": []
    },
    {
      "cell_type": "markdown",
      "source": [
        "**Example : tuple comprehension Python**\n",
        "\n",
        "Simple example code. Wrap generator object using tuple() function.\n",
        "\n"
      ],
      "metadata": {
        "id": "SRZFDh2ZJWLR"
      }
    },
    {
      "cell_type": "code",
      "source": [
        "tuple1 = (1, 6, 5, 9, 9, 1, 25, 76)\n",
        "tuple2 = tuple((i for i in tuple1 if i % 5 == 0))\n",
        "\n",
        "print(tuple2)"
      ],
      "metadata": {
        "colab": {
          "base_uri": "https://localhost:8080/"
        },
        "id": "5GXopxyGJbVZ",
        "outputId": "9991a328-9326-41bf-d185-187cce8c1577"
      },
      "execution_count": null,
      "outputs": [
        {
          "output_type": "stream",
          "name": "stdout",
          "text": [
            "(5, 25)\n"
          ]
        }
      ]
    },
    {
      "cell_type": "markdown",
      "metadata": {
        "id": "7Lox2GZCMdIB"
      },
      "source": [
        "## Conditionals"
      ]
    },
    {
      "cell_type": "markdown",
      "metadata": {
        "id": "-gXEAWFZfDTT"
      },
      "source": [
        "As their name indicates, conditionals are a way to execute code depending on whether a condition is True or False. As in other languages, Python supports `if` and `else` but `else if` is contracted into `elif`, as the example below demonstrates. "
      ]
    },
    {
      "cell_type": "code",
      "metadata": {
        "id": "xC_DMZjofoYZ",
        "colab": {
          "base_uri": "https://localhost:8080/",
          "height": 34
        },
        "outputId": "e86016aa-0ebd-4e0f-e559-326f4b2ce644"
      },
      "source": [
        "my_variable = 5\n",
        "if my_variable < 0:\n",
        "  print(\"negative\")\n",
        "elif my_variable == 0:\n",
        "  print(\"null\")\n",
        "else: # my_variable > 0\n",
        "  print(\"positive\")"
      ],
      "execution_count": null,
      "outputs": [
        {
          "output_type": "stream",
          "text": [
            "positive\n"
          ],
          "name": "stdout"
        }
      ]
    },
    {
      "cell_type": "markdown",
      "metadata": {
        "id": "Ag0SUokSf9jl"
      },
      "source": [
        "Here `<` and `>` are the strict `less` and `greater than` operators, while `==` is the equality operator (not to be confused with `=`, the variable assignment operator). The operators `<=` and `>=` can be used for less (resp. greater) than or equal comparisons."
      ]
    },
    {
      "cell_type": "markdown",
      "metadata": {
        "id": "qTkQ2F_jy8wz"
      },
      "source": [
        "Contrary to other languages, blocks of code are delimited using indentation. Here, we use 2-space indentation but many programmers also use 4-space indentation. Any one is fine as long as you are consistent throughout your code."
      ]
    },
    {
      "cell_type": "markdown",
      "metadata": {
        "id": "clWaFCzBMfkv"
      },
      "source": [
        "## Loops"
      ]
    },
    {
      "cell_type": "markdown",
      "metadata": {
        "id": "_A5doqhTivWe"
      },
      "source": [
        "Loops are a way to execute a block of code multiple times. There are two main types of loops: while loops and for loops."
      ]
    },
    {
      "cell_type": "markdown",
      "metadata": {
        "id": "YN8lwTxQkGEa"
      },
      "source": [
        "While loop"
      ]
    },
    {
      "cell_type": "code",
      "metadata": {
        "id": "7-QXGqgOjsr_",
        "colab": {
          "base_uri": "https://localhost:8080/",
          "height": 85
        },
        "outputId": "4a9bdffc-46ba-47ba-e60b-3ea01dcd2d65"
      },
      "source": [
        "i = 0\n",
        "while i < len(my_list):\n",
        "  print(my_list[i])\n",
        "  i += 1 # equivalent to i = i + 1"
      ],
      "execution_count": null,
      "outputs": [
        {
          "output_type": "stream",
          "text": [
            "1\n",
            "2\n",
            "3\n",
            "4\n"
          ],
          "name": "stdout"
        }
      ]
    },
    {
      "cell_type": "markdown",
      "metadata": {
        "id": "8mEI_ocfkSvZ"
      },
      "source": [
        "For loop"
      ]
    },
    {
      "cell_type": "code",
      "metadata": {
        "id": "2QObx5mckMcI",
        "colab": {
          "base_uri": "https://localhost:8080/",
          "height": 85
        },
        "outputId": "32c31a79-ef89-4e80-9e76-47540f839cb6"
      },
      "source": [
        "for i in range(len(my_list)):\n",
        "  print(my_list[i])"
      ],
      "execution_count": null,
      "outputs": [
        {
          "output_type": "stream",
          "text": [
            "1\n",
            "2\n",
            "3\n",
            "4\n"
          ],
          "name": "stdout"
        }
      ]
    },
    {
      "cell_type": "markdown",
      "metadata": {
        "id": "XO6qqppikZvm"
      },
      "source": [
        "If the goal is simply to iterate over a list, we can do so directly as follows"
      ]
    },
    {
      "cell_type": "code",
      "metadata": {
        "id": "PjFKzN6zkeJ7",
        "colab": {
          "base_uri": "https://localhost:8080/",
          "height": 85
        },
        "outputId": "41f3a553-b629-4e52-ad98-7bbe55e0cced"
      },
      "source": [
        "for element in my_list:\n",
        "  print(element)"
      ],
      "execution_count": null,
      "outputs": [
        {
          "output_type": "stream",
          "text": [
            "1\n",
            "2\n",
            "3\n",
            "4\n"
          ],
          "name": "stdout"
        }
      ]
    },
    {
      "cell_type": "markdown",
      "metadata": {
        "id": "Cck4zwYrex02"
      },
      "source": [
        "## Functions"
      ]
    },
    {
      "cell_type": "markdown",
      "metadata": {
        "id": "n1PbIf_ohxFO"
      },
      "source": [
        "To improve code readability, it is common to separate the code into different blocks, responsible for performing precise actions: functions. A function takes some inputs and process them to return some outputs."
      ]
    },
    {
      "cell_type": "markdown",
      "metadata": {
        "id": "WaRms-QfL9hN"
      },
      "source": [
        "Python functions are defined using the `def` keyword. For example:"
      ]
    },
    {
      "cell_type": "code",
      "execution_count": null,
      "metadata": {
        "colab": {
          "base_uri": "https://localhost:8080/",
          "height": 69
        },
        "id": "kiMDUr58L9hN",
        "outputId": "9f53bf9a-7b2a-4c51-9def-398e4677cd6c"
      },
      "outputs": [
        {
          "name": "stdout",
          "output_type": "stream",
          "text": [
            "negative\n",
            "zero\n",
            "positive\n"
          ]
        }
      ],
      "source": [
        "def sign(x):\n",
        "    if x > 0:\n",
        "        return 'positive'\n",
        "    elif x < 0:\n",
        "        return 'negative'\n",
        "    else:\n",
        "        return 'zero'\n",
        "\n",
        "for x in [-1, 0, 1]:\n",
        "    print(sign(x))"
      ]
    },
    {
      "cell_type": "markdown",
      "metadata": {
        "id": "U-QJFt8TL9hR"
      },
      "source": [
        "We will often define functions to take optional keyword arguments, like this:"
      ]
    },
    {
      "cell_type": "code",
      "execution_count": null,
      "metadata": {
        "colab": {
          "base_uri": "https://localhost:8080/",
          "height": 52
        },
        "id": "PfsZ3DazL9hR",
        "outputId": "6e6af832-67d8-4d8c-949b-335927684ae3"
      },
      "outputs": [
        {
          "name": "stdout",
          "output_type": "stream",
          "text": [
            "Hello, Bob!\n",
            "HELLO, FRED\n"
          ]
        }
      ],
      "source": [
        "def hello(name, loud=False):\n",
        "    if loud:\n",
        "        print('HELLO, {}'.format(name.upper()))\n",
        "    else:\n",
        "        print('Hello, {}!'.format(name))\n",
        "\n",
        "hello('Bob')\n",
        "hello('Fred', loud=True)"
      ]
    },
    {
      "cell_type": "code",
      "metadata": {
        "id": "cImA09gOhRmx",
        "colab": {
          "base_uri": "https://localhost:8080/",
          "height": 34
        },
        "outputId": "85834282-56d6-4c17-f188-433f46c50d21"
      },
      "source": [
        "def square(x):\n",
        "  return x ** 2\n",
        "\n",
        "def multiply(a, b):\n",
        "  return a * b\n",
        "\n",
        "# Functions can be composed.\n",
        "square(multiply(3, 2))"
      ],
      "execution_count": null,
      "outputs": [
        {
          "output_type": "execute_result",
          "data": {
            "text/plain": [
              "36"
            ]
          },
          "metadata": {
            "tags": []
          },
          "execution_count": 17
        }
      ]
    },
    {
      "cell_type": "markdown",
      "metadata": {
        "id": "75-5SOk9iYSt"
      },
      "source": [
        "To improve code readability, it is sometimes useful to explicitly name the arguments"
      ]
    },
    {
      "cell_type": "code",
      "metadata": {
        "id": "wkIUuZHhidI0",
        "colab": {
          "base_uri": "https://localhost:8080/",
          "height": 34
        },
        "outputId": "acb68380-db78-491c-ce27-8a4664f78ce5"
      },
      "source": [
        "square(multiply(a=3, b=2))"
      ],
      "execution_count": null,
      "outputs": [
        {
          "output_type": "execute_result",
          "data": {
            "text/plain": [
              "36"
            ]
          },
          "metadata": {
            "tags": []
          },
          "execution_count": 18
        }
      ]
    },
    {
      "cell_type": "markdown",
      "metadata": {
        "id": "LkpwbQEVMys2"
      },
      "source": [
        "## Exercises"
      ]
    },
    {
      "cell_type": "markdown",
      "metadata": {
        "id": "ASpVhol9ZXI0"
      },
      "source": [
        "**Exercise 1.** Using a conditional, write the [relu](https://en.wikipedia.org/wiki/Rectifier_(neural_networks)) function defined as follows\n",
        "\n",
        "$\\text{relu}(x) = \\left\\{\n",
        "   \\begin{array}{rl}\n",
        "     x, & \\text{if }  x \\ge 0 \\\\\n",
        "     0, & \\text{otherwise }.\n",
        "   \\end{array}\\right.$"
      ]
    },
    {
      "cell_type": "code",
      "metadata": {
        "id": "jlgyu65SaUvr"
      },
      "source": [
        "def relu(x):\n",
        "  # Write your function here\n",
        "  return\n",
        "\n",
        "relu(-3)"
      ],
      "execution_count": null,
      "outputs": []
    },
    {
      "cell_type": "markdown",
      "metadata": {
        "id": "Y3so0ceoakIw"
      },
      "source": [
        "**Exercise 2.** Using a foor loop, write a function that computes the [Euclidean norm](https://en.wikipedia.org/wiki/Norm_(mathematics)#Euclidean_norm) of a vector, represented as a list."
      ]
    },
    {
      "cell_type": "code",
      "metadata": {
        "id": "-IH-BD41bI1u",
        "colab": {
          "base_uri": "https://localhost:8080/",
          "height": 34
        },
        "outputId": "f45bf668-d55b-494d-ecd7-2f421cbacf15"
      },
      "source": [
        "def euclidean_norm(vector):\n",
        "  # Write your function here\n",
        "  return\n",
        "\n",
        "import numpy as np\n",
        "my_vector = [0.5, -1.2, 3.3, 4.5]\n",
        "# The result should be roughly 5.729746940310715\n",
        "euclidean_norm(my_vector)"
      ],
      "execution_count": null,
      "outputs": [
        {
          "output_type": "execute_result",
          "data": {
            "text/plain": [
              "5.729746940310715"
            ]
          },
          "metadata": {
            "tags": []
          },
          "execution_count": 13
        }
      ]
    },
    {
      "cell_type": "markdown",
      "metadata": {
        "id": "SEXIh_e9cW3S"
      },
      "source": [
        "**Exercise 3.** Using a for loop and a conditional, write a function that returns the maximum value in a vector."
      ]
    },
    {
      "cell_type": "code",
      "metadata": {
        "id": "zd9ntMq0cb2e"
      },
      "source": [
        "def vector_maximum(vector):\n",
        "  # Write your function here\n",
        "  return"
      ],
      "execution_count": null,
      "outputs": []
    },
    {
      "cell_type": "markdown",
      "metadata": {
        "id": "qPAZA4OMc6sT"
      },
      "source": [
        "**Bonus exercise.** if time permits, write a function that sorts a list in ascending order (from smaller to bigger) using the [bubble sort](https://en.wikipedia.org/wiki/Bubble_sort) algorithm."
      ]
    },
    {
      "cell_type": "code",
      "metadata": {
        "id": "sBokdJO4dGyf"
      },
      "source": [
        "def bubble_sort(my_list):\n",
        "  # Write your function here\n",
        "  return\n",
        "\n",
        "my_list = [1, -3, 3, 2]\n",
        "# Should return [-3, 1, 2, 3]\n",
        "bubble_sort(my_list)"
      ],
      "execution_count": null,
      "outputs": []
    },
    {
      "cell_type": "markdown",
      "metadata": {
        "id": "jDxjvtEEM1vg"
      },
      "source": [
        "## Going further"
      ]
    },
    {
      "cell_type": "markdown",
      "metadata": {
        "id": "wRkmvzf-PdEp"
      },
      "source": [
        "Clearly, it is impossible to cover all the language features in this short introduction. To go further, I recommend the following resources:"
      ]
    },
    {
      "cell_type": "markdown",
      "metadata": {
        "id": "n8nbPoWclRlH"
      },
      "source": [
        "\n",
        "\n",
        "*   List of Python [tutorials](https://wiki.python.org/moin/BeginnersGuide/Programmers)\n",
        "* Four-hour [course](https://www.youtube.com/watch?v=rfscVS0vtbw) on Youtube\n",
        "\n"
      ]
    },
    {
      "cell_type": "markdown",
      "source": [
        "# Python Classes and Objects"
      ],
      "metadata": {
        "id": "YBOg6Eo-19_W"
      }
    },
    {
      "cell_type": "markdown",
      "metadata": {
        "id": "A-z_kW7y1_yI"
      },
      "source": [
        "#### <b>What is a Python Class ?</b>\n",
        "\n",
        "A class is a user-defined blueprint or prototype from which objects are created.\n",
        "\n",
        " \n",
        "#### <b>Why do we use Classes?</b>\n",
        "\n",
        "Classes provide a means of bundling data and functionality together. Creating a new class creates a new type of object, allowing new instances of that type to be made. Each class instance can have attributes attached to it for maintaining its state. Class instances can also have methods (defined by its class) for modifying its state.\n",
        "\n",
        "To understand the need for creating a class, let’s consider an example. Let’s say you wanted to track the number of dogs which may have different attributes like breed and age. If a list is used, the first element could be the dog’s breed while the second element could represent its age. Let’s suppose there are 100 different dogs, then how would you know which element is supposed to be which? What if you wanted to add other properties to these dogs? This lacks organization and it demonstrates the need for classes.\n",
        "\n",
        "Class creates a user-defined data structure, which holds its own data members and member functions that can be accessed and used by creating an instance of that class. A class is like a blueprint for an object.\n",
        "\n",
        "#### <b>How do we create Classes?</b>\n",
        "\n",
        "Here are simple rules to create a class in Python:\n",
        " - Classes are created by keyword **class**.\n",
        " - Attributes are the variables that belong to class. \n",
        " - Attributes are always public and can be accessed using dot (.) operator. Eg.: Myclass.Myattribute\n",
        " - Attributes can be made not directly visible by adding a double underscore prefix to their name. Eg.: Myclass.__Hiddenattribute\n",
        "    \n",
        "Here is the syntax of a class in Python:\n",
        "```python\n",
        "class ClassName:\n",
        "    # Statement-1\n",
        "    .\n",
        "    .\n",
        "    .\n",
        "    # Statement-N\n",
        "```\n",
        "\n",
        "In the following example, **class** keyword indicates that you are creating a class followed by the name of the class (Dog in this case).\n",
        "\n",
        "```python\n",
        "\n",
        "class Dog:  \n",
        "        \n",
        "    # Class Variable  \n",
        "    animal = 'dog'      \n",
        "        \n",
        "    # The init method or constructor  \n",
        "    def __init__(self, breed):  \n",
        "            \n",
        "        # Instance Variable  \n",
        "        self.breed = breed              \n",
        "    \n",
        "    # Adds an instance variable   \n",
        "    def setColor(self, color):  \n",
        "        self.color = color  \n",
        "        \n",
        "    # Retrieves instance variable      \n",
        "    def getColor(self):      \n",
        "        return self.color     \n",
        "    \n",
        "# Driver Code  \n",
        "Rodger = Dog(\"pug\")  \n",
        "Rodger.setColor(\"brown\")  \n",
        "print(Rodger.getColor())   \n",
        "```\n",
        "\n",
        "The **__init__** method is a constructor. Constructors are used to initialize the object’s state. Like methods, a constructor also contains a collection of \n",
        "statements (i.e. instructions) that are executed at time of Object creation. \n",
        "It is run as soon as an object of a class is instantiated. The method is useful to do any initialization you want to do with your object.\n",
        "\n",
        "Often, the first argument of a method is called self. This is nothing more than a convention: the name self has absolutely no special meaning to Python. \n",
        "The **self** represents the instance of the class. By using the **self** keyword we can access the attributes and methods of the class in python.\n",
        "\n",
        "We do not give a value for this parameter when we call the method, Python provides it.\n",
        "If we have a method which takes no arguments, then we still have to have one argument.\n",
        "When we call a method of this object as **myobject.method(arg1, arg2)**, this is automatically converted by Python into **MyClass.method(myobject, arg1, arg2)**. \n",
        "This is what the special **self** is about."
      ]
    },
    {
      "cell_type": "code",
      "source": [
        "class Dog:  \n",
        "\n",
        "    # Class Variable  \n",
        "    animal = 'dog'      \n",
        "\n",
        "    # The init method or constructor  \n",
        "    def __init__(self, breed):  \n",
        "\n",
        "        # Instance Variable  \n",
        "        self.breed = breed              \n",
        "\n",
        "    # Adds an instance variable   \n",
        "    def setColor(self, color):  \n",
        "        self.color = color  \n",
        "\n",
        "    # Retrieves instance variable      \n",
        "    def getColor(self):      \n",
        "        return self.color     \n",
        "\n",
        "# Driver Code  \n",
        "Rodger = Dog(\"pug\")  \n",
        "Rodger.setColor(\"brown\")  \n",
        "print(Rodger.getColor())   "
      ],
      "metadata": {
        "colab": {
          "base_uri": "https://localhost:8080/"
        },
        "id": "2rYTY4j24Fsw",
        "outputId": "93ac4947-4220-4014-f92a-11a98913cddb"
      },
      "execution_count": null,
      "outputs": [
        {
          "output_type": "stream",
          "name": "stdout",
          "text": [
            "brown\n"
          ]
        }
      ]
    },
    {
      "cell_type": "markdown",
      "metadata": {
        "id": "T5yMjlE01_yI"
      },
      "source": [
        "#### <b>What is a Python Object?</b>\n",
        "\n",
        "An Object is an instance of a Class. \n",
        "\n",
        "#### <b>Why do we use an Object?</b>\n",
        "\n",
        "A class is like a blueprint while an instance is a copy of the class with *actual values*. \n",
        "It’s not an idea anymore, it’s an actual dog, like a dog that has the breed of pug and is seven years old. \n",
        "You can have many dogs to create many different instances, but without the class as a guide, you would be lost, not knowing what information is required.\n",
        "\n",
        "An object consists of :\n",
        "\n",
        " - State : It is represented by attributes of an object. It also reflects the properties of an object.\n",
        " - Behavior : It is represented by methods of an object. It also reflects the response of an object with other objects.\n",
        " - Identity : It gives a unique name to an object and enables one object to interact with other objects.\n"
      ]
    },
    {
      "cell_type": "markdown",
      "metadata": {
        "id": "B8o8Uar-1_yJ"
      },
      "source": [
        "![ClassImage1.png](data:image/png;base64,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)"
      ]
    },
    {
      "cell_type": "markdown",
      "metadata": {
        "id": "wqUXQH3V1_yK"
      },
      "source": [
        "#### <b>How do we create Objects (Also called instantiating a class)?</b>\n",
        "\n",
        "When an object of a class is created, the class is said to be instantiated. \n",
        "All the instances share the attributes and the behavior of the class. But the values of those attributes, i.e. the states are unique for each object. \n",
        "A single class may have any number of instances. \n",
        "\n",
        "Instance variables are for data that is unique to each instance. Class variables are for attributes and methods shared by all instances of the class.\n",
        "Instance variables are variables whose value is assigned inside a constructor or method with **self** whereas class variables are variables whose value is assigned in the class."
      ]
    },
    {
      "cell_type": "markdown",
      "metadata": {
        "id": "IACWKC-M1_yK"
      },
      "source": [
        "![ClassImage2.png](data:image/png;base64,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)"
      ]
    },
    {
      "cell_type": "markdown",
      "metadata": {
        "id": "0k4x0i0e1_yM"
      },
      "source": [
        "\n",
        "\n",
        "Here is an example:\n",
        "```python\n",
        "class Dog:  \n",
        "          \n",
        "    # A simple class \n",
        "    # attribute \n",
        "    attr1 = \"mammal\"\n",
        "    attr2 = \"dog\"\n",
        "    \n",
        "    # init method or constructor   \n",
        "    def __init__(self, name):  \n",
        "        self.name = name  \n",
        "  \n",
        "    # A sample method   \n",
        "    def fun(self):  \n",
        "        print(\"I'm a\", self.attr1) \n",
        "        print(\"I'm a\", self.attr2) \n",
        "        print(\"My name is\", self.name) \n",
        "\n",
        "# Driver code \n",
        "# Object instantiation \n",
        "first_dog = Dog('Justin') \n",
        "  \n",
        "# Accessing class attributes \n",
        "# and method through objects \n",
        "print(first_dog.attr1) \n",
        "first_dog.fun() \n",
        "```\n",
        "When the above code is executed, it produces the following result.\n",
        "```python\n",
        "mammal\n",
        "I'm a mammal\n",
        "I'm a dog\n",
        "My name is Justin\n",
        "```\n",
        "\n",
        "In the above example, an object (**first_dog**) is created which is basically a dog. \n",
        "This class only has two **class** attributes that tell us that first_dog is a dog and a mammal and one **instance** attribute that tells us that the dog is named Justin."
      ]
    },
    {
      "cell_type": "code",
      "source": [
        "class Dog:  \n",
        "\n",
        "    # A simple class \n",
        "    # attribute \n",
        "    attr1 = \"mammal\"\n",
        "    attr2 = \"dog\"\n",
        "\n",
        "    # init method or constructor   \n",
        "    def __init__(self, name):  \n",
        "        self.name = name  \n",
        "\n",
        "    # A sample method   \n",
        "    def fun(self):  \n",
        "        print(\"I'm a\", self.attr1) \n",
        "        print(\"I'm a\", self.attr2) \n",
        "        print(\"My name is\", self.name) \n",
        "\n",
        "# Driver code \n",
        "# Object instantiation \n",
        "first_dog = Dog('Justin') \n",
        "\n",
        "# Accessing class attributes \n",
        "# and method through objects \n",
        "print(first_dog.attr1) \n",
        "first_dog.fun() "
      ],
      "metadata": {
        "colab": {
          "base_uri": "https://localhost:8080/"
        },
        "id": "9m8oQPta4S9m",
        "outputId": "e51a5011-9f9e-4ed5-db26-b55b63d6329d"
      },
      "execution_count": null,
      "outputs": [
        {
          "output_type": "stream",
          "name": "stdout",
          "text": [
            "mammal\n",
            "I'm a mammal\n",
            "I'm a dog\n",
            "My name is Justin\n"
          ]
        }
      ]
    },
    {
      "cell_type": "markdown",
      "metadata": {
        "id": "S8uuEm4o1_yM"
      },
      "source": [
        "#### <b>Where can I find more information on Classes and Objects?</b>\n",
        "\n",
        "[Official python documentation on classes and objects](https://docs.python.org/3.7/tutorial/classes.html)"
      ]
    },
    {
      "cell_type": "markdown",
      "metadata": {
        "id": "w-avQTrO8mBF"
      },
      "source": [
        "# <center> RegEx in Python</center>\n",
        "\n",
        "![](images/memes/meme3.jpg)"
      ]
    },
    {
      "cell_type": "markdown",
      "metadata": {
        "id": "lyhm3Fmi8mBI"
      },
      "source": [
        "# Getting started with RegEx in Python\n",
        "\n",
        "The **[re](https://docs.python.org/3/howto/regex.html)** module provides an interface to the regular expression engine, allowing you to **compile regular expressions into objects and then perform matches with them**."
      ]
    },
    {
      "cell_type": "code",
      "execution_count": null,
      "metadata": {
        "id": "8BaKvTsJ8mBJ"
      },
      "outputs": [],
      "source": [
        "import re"
      ]
    },
    {
      "cell_type": "markdown",
      "metadata": {
        "id": "a43Om9xi8mBJ"
      },
      "source": [
        "## 1. Compiling Regular Expressions\n",
        "\n",
        "Regular expressions are **compiled** into `Pattern` objects, which have methods for various operations such as searching for pattern matches or performing string substitutions.\n",
        "\n",
        "\n",
        "### `re.compile(pattern, flags=0)`\n",
        "\n",
        "Compile a regular expression pattern, returning a pattern object.\n",
        "\n",
        "- The regular expression is passed to `re.compile()` as a **string**. \n",
        "\n",
        "> Regular expressions are handled as strings because regular expressions aren’t part of the core Python language, and no special syntax was created for expressing them. \n",
        "\n",
        "> Regular expression patterns are compiled into a series of bytecodes which are then executed by a matching engine written in C."
      ]
    },
    {
      "cell_type": "code",
      "execution_count": null,
      "metadata": {
        "id": "GdHvXcnB8mBK"
      },
      "outputs": [],
      "source": [
        "pattern = re.compile(\"hello\")"
      ]
    },
    {
      "cell_type": "code",
      "execution_count": null,
      "metadata": {
        "id": "cEIKubDs8mBK",
        "outputId": "aa1c53b5-7e86-4d6e-a75e-0d64004b89db"
      },
      "outputs": [
        {
          "data": {
            "text/plain": [
              "re.compile(r'hello', re.UNICODE)"
            ]
          },
          "execution_count": 3,
          "metadata": {},
          "output_type": "execute_result"
        }
      ],
      "source": [
        "pattern"
      ]
    },
    {
      "cell_type": "markdown",
      "metadata": {
        "id": "e7XVfpB48mBL"
      },
      "source": [
        "- `re.compile()` also accepts an optional `flags` argument, used to enable various special features and syntax variations. [More about flags](http://xahlee.info/python/python_regex_flags.html)\n",
        "\n",
        "<br>\n",
        "\n",
        "In the example below, we use the flag `re.I` (short for `re.IGNORECASE`) to ignore letter case in the regex pattern."
      ]
    },
    {
      "cell_type": "code",
      "execution_count": null,
      "metadata": {
        "id": "narscDVz8mBM"
      },
      "outputs": [],
      "source": [
        "pattern = re.compile(\"hello\", flags=re.I)"
      ]
    },
    {
      "cell_type": "code",
      "execution_count": null,
      "metadata": {
        "id": "MmoPxl0p8mBM",
        "outputId": "052cb243-5d27-41c5-ede2-c77e512d2e36"
      },
      "outputs": [
        {
          "data": {
            "text/plain": [
              "re.compile(r'hello', re.IGNORECASE|re.UNICODE)"
            ]
          },
          "execution_count": 5,
          "metadata": {},
          "output_type": "execute_result"
        }
      ],
      "source": [
        "pattern"
      ]
    },
    {
      "cell_type": "markdown",
      "metadata": {
        "id": "NeFjlTSx8mBN"
      },
      "source": [
        "## 2. Performing Matches\n",
        "\n",
        "So, we have created a `Pattern` object representing a compiled regular expression using `re.compile()` method.\n",
        "\n",
        "Pattern objects have several methods and attributes.\n",
        "\n",
        "Here is the list of different methods used for performing matches:\n",
        "\n",
        "\n",
        "<table style=\"border: 1px solid black; font-size:15px;\">\n",
        "<thead>\n",
        "    <th>Method/Attribute</th>\n",
        "    <th>Purpose</th>\n",
        "</thead>\n",
        "    \n",
        "<tbody>\n",
        "<tr>\n",
        "    <td>match()</td>\n",
        "    <td>Determine if the RE matches at the beginning of the string.</td>\n",
        "</tr>\n",
        "    \n",
        "<tr>\n",
        "    <td>search()</td>\n",
        "    <td>Scan through a string, looking for any location where this RE matches.</td>\n",
        "</tr>\n",
        "\n",
        "<tr>\n",
        "    <td>findall()</td>\n",
        "    <td>Find all substrings where the RE matches, and returns them as a list.</td>\n",
        "</tr>\n",
        "\n",
        "<tr>\n",
        "    <td>finditer()</td>\n",
        "    <td>Find all substrings where the RE matches, and returns them as an iterator.</td>\n",
        "</tr>\n",
        "</tbody>\n",
        "</table>\n",
        "\n",
        "Let us go through them one by one:\n",
        "\n",
        "### `match(string[, pos[, endpos]])`\n",
        "\n",
        "- A match is checked only at the beginning (by default).\n",
        "\n",
        "- Checking starts from `pos` index of the string. (default is 0)\n",
        "\n",
        "- Checking is done until `endpos` index of string. `endpos` is set as a very large integer (by default).\n",
        "\n",
        "- Returns `None` if no match found.\n",
        "\n",
        "- If a match is found, a `Match` object is returned, containing information about the match: where it starts and ends, the substring it matched, and more."
      ]
    },
    {
      "cell_type": "code",
      "execution_count": null,
      "metadata": {
        "id": "4pOZm5-88mBN"
      },
      "outputs": [],
      "source": [
        "pattern = re.compile(\"hello\")"
      ]
    },
    {
      "cell_type": "code",
      "execution_count": null,
      "metadata": {
        "id": "aaf6PKpO8mBN"
      },
      "outputs": [],
      "source": [
        "match = pattern.match(\"hello world\")"
      ]
    },
    {
      "cell_type": "code",
      "execution_count": null,
      "metadata": {
        "id": "5hi5ZwT78mBO",
        "outputId": "a025378c-5419-4e62-e034-abe9255fd8e7"
      },
      "outputs": [
        {
          "data": {
            "text/plain": [
              "(0, 5)"
            ]
          },
          "execution_count": 8,
          "metadata": {},
          "output_type": "execute_result"
        }
      ],
      "source": [
        "match.span()"
      ]
    },
    {
      "cell_type": "code",
      "execution_count": null,
      "metadata": {
        "id": "A3W-NUWH8mBO",
        "outputId": "acad3e05-b215-4256-9863-88c91c92426e"
      },
      "outputs": [
        {
          "data": {
            "text/plain": [
              "0"
            ]
          },
          "execution_count": 9,
          "metadata": {},
          "output_type": "execute_result"
        }
      ],
      "source": [
        "match.start()"
      ]
    },
    {
      "cell_type": "code",
      "execution_count": null,
      "metadata": {
        "id": "PUQmA-ch8mBO",
        "outputId": "506b3597-db84-4bd8-fd4d-54b56a80b2c2"
      },
      "outputs": [
        {
          "data": {
            "text/plain": [
              "5"
            ]
          },
          "execution_count": 10,
          "metadata": {},
          "output_type": "execute_result"
        }
      ],
      "source": [
        "match.end()"
      ]
    },
    {
      "cell_type": "code",
      "execution_count": null,
      "metadata": {
        "id": "hYRSThRt8mBO",
        "outputId": "0860039b-cb65-45e5-8ddb-1b0a04e66f01"
      },
      "outputs": [
        {
          "data": {
            "text/plain": [
              "False"
            ]
          },
          "execution_count": 11,
          "metadata": {},
          "output_type": "execute_result"
        }
      ],
      "source": [
        "pattern.match(\"say hello\", pos=4) is None"
      ]
    },
    {
      "cell_type": "code",
      "execution_count": null,
      "metadata": {
        "id": "f937LQY28mBP",
        "outputId": "1898715b-56bc-4fd6-a4e5-27f7cc1e622b"
      },
      "outputs": [
        {
          "data": {
            "text/plain": [
              "True"
            ]
          },
          "execution_count": 12,
          "metadata": {},
          "output_type": "execute_result"
        }
      ],
      "source": [
        "pattern.match(\"hello\", endpos=4) is None"
      ]
    },
    {
      "cell_type": "markdown",
      "metadata": {
        "id": "mbEEvENu8mBP"
      },
      "source": [
        "### `search(string[, pos[, endpos]])`\n",
        "\n",
        "- A match is checked throughtout the string.\n",
        "\n",
        "- Same behaviour of `pos` and `endpos` as the `match()` function.\n",
        "\n",
        "- Returns `None` if no match found.\n",
        "\n",
        "- If a match is found, a `Match` object is returned."
      ]
    },
    {
      "cell_type": "code",
      "execution_count": null,
      "metadata": {
        "id": "mPcETt7Y8mBP",
        "outputId": "3a2f98e1-d2b8-4424-e41e-c6f42e0e36c2"
      },
      "outputs": [
        {
          "data": {
            "text/plain": [
              "<_sre.SRE_Match object; span=(4, 9), match='hello'>"
            ]
          },
          "execution_count": 13,
          "metadata": {},
          "output_type": "execute_result"
        }
      ],
      "source": [
        "pattern.search(\"say hello\")"
      ]
    },
    {
      "cell_type": "code",
      "execution_count": null,
      "metadata": {
        "id": "FyA-vJIx8mBP",
        "outputId": "57f0b49e-64ad-4a9f-eda2-cad49e840113"
      },
      "outputs": [
        {
          "data": {
            "text/plain": [
              "<_sre.SRE_Match object; span=(4, 9), match='hello'>"
            ]
          },
          "execution_count": 14,
          "metadata": {},
          "output_type": "execute_result"
        }
      ],
      "source": [
        "pattern.search(\"say hello hello\")"
      ]
    },
    {
      "cell_type": "markdown",
      "metadata": {
        "id": "oByqp9MF8mBQ"
      },
      "source": [
        "### `findall(string[, pos[, endpos]])`\n",
        "\n",
        "- Finds **all non-overlapping substrings** where the match is found, and returns them as a list.\n",
        "\n",
        "- Same behaviour of `pos` and `endpos` as the `match()` and `search()` function."
      ]
    },
    {
      "cell_type": "code",
      "execution_count": null,
      "metadata": {
        "id": "YD7OlHlm8mBQ",
        "outputId": "2bf77cf3-2018-4bb1-e284-ab60ef087578"
      },
      "outputs": [
        {
          "data": {
            "text/plain": [
              "['hello', 'hello']"
            ]
          },
          "execution_count": 15,
          "metadata": {},
          "output_type": "execute_result"
        }
      ],
      "source": [
        "pattern.findall(\"say hello hello\")"
      ]
    },
    {
      "cell_type": "markdown",
      "metadata": {
        "id": "4tyaEIBB8mBQ"
      },
      "source": [
        "### `finditer(string[, pos[, endpos]])`\n",
        "\n",
        "- Finds **all non-overlapping substrings** where the match is found, and returns them as an iterator of the `Match` objects.\n",
        "\n",
        "- Same behaviour of `pos` and `endpos` as the `match()`, `search()` and `findall()` function."
      ]
    },
    {
      "cell_type": "code",
      "execution_count": null,
      "metadata": {
        "id": "fA5G9RRc8mBQ"
      },
      "outputs": [],
      "source": [
        "matches = pattern.finditer(\"say hello hello\")"
      ]
    },
    {
      "cell_type": "code",
      "execution_count": null,
      "metadata": {
        "id": "fakA-m4n8mBR",
        "outputId": "31563658-5c2a-42df-8a52-8a398f26ad7b"
      },
      "outputs": [
        {
          "name": "stdout",
          "output_type": "stream",
          "text": [
            "(4, 9)\n",
            "(10, 15)\n"
          ]
        }
      ],
      "source": [
        "for match in matches:\n",
        "    print(match.span())"
      ]
    },
    {
      "cell_type": "code",
      "execution_count": null,
      "metadata": {
        "id": "vb4XdVGK8mBR",
        "outputId": "4c87a85b-a337-4e16-893e-49cb985ecdce"
      },
      "outputs": [
        {
          "name": "stdout",
          "output_type": "stream",
          "text": [
            "say \u001b[43m\u001b[1mhello\u001b[0m \u001b[43m\u001b[1mhello\u001b[0m\n"
          ]
        }
      ],
      "source": [
        "from utils import highlight_regex_matches\n",
        "highlight_regex_matches(pattern, \"say hello hello\")"
      ]
    },
    {
      "cell_type": "markdown",
      "metadata": {
        "id": "5EoAm7408mBR"
      },
      "source": [
        "> By now, you must have noticed that `match()`, `search()` and `finditer()` return `Match` object(s) where as `findall()` returns a list of strings.\n",
        "\n",
        "\n",
        "### Note:\n",
        "\n",
        "It is not mandatory to create a `Pattern` object explicitly using `re.compile()` method in order to perform a regex operation.\n",
        "\n",
        "You can direclty use the module level functions such as:\n",
        "- `re.match(pattern, string, flags=0)`\n",
        "\n",
        "- `re.search(pattern, string, flags=0)`\n",
        "\n",
        "- `re.findall(pattern, string, flags=0)`\n",
        "\n",
        "- `re.finditer(pattern, string, flags=0)`\n",
        "\n",
        "and so on.\n",
        "\n",
        "In a module level function, you can simply pass a **string** as your **regex pattern** as shown in the examples below."
      ]
    },
    {
      "cell_type": "code",
      "execution_count": null,
      "metadata": {
        "id": "Wtefeohf8mBR",
        "outputId": "e0217c47-979e-4931-caa2-4608f49c37e4"
      },
      "outputs": [
        {
          "data": {
            "text/plain": [
              "<_sre.SRE_Match object; span=(0, 5), match='hello'>"
            ]
          },
          "execution_count": 19,
          "metadata": {},
          "output_type": "execute_result"
        }
      ],
      "source": [
        "re.match(\"hello\", \"hello\")"
      ]
    },
    {
      "cell_type": "code",
      "execution_count": null,
      "metadata": {
        "id": "43pCgbMk8mBR",
        "outputId": "8c947391-0ec1-4147-c734-88cbe9a59cfc"
      },
      "outputs": [
        {
          "data": {
            "text/plain": [
              "['hello', 'hello']"
            ]
          },
          "execution_count": 20,
          "metadata": {},
          "output_type": "execute_result"
        }
      ],
      "source": [
        "re.findall(\"hello\", \"say hello hello\")"
      ]
    },
    {
      "cell_type": "markdown",
      "metadata": {
        "id": "w1H68YvB8mBR"
      },
      "source": [
        "### Important Example\n",
        "\n",
        "Consider the example below:"
      ]
    },
    {
      "cell_type": "code",
      "execution_count": null,
      "metadata": {
        "id": "HgkpR--B8mBS"
      },
      "outputs": [],
      "source": [
        "txt = \"This book costs $15.\""
      ]
    },
    {
      "cell_type": "markdown",
      "metadata": {
        "id": "pyf9sbpm8mBS"
      },
      "source": [
        "Search for the pattern `$15`."
      ]
    },
    {
      "cell_type": "code",
      "execution_count": null,
      "metadata": {
        "id": "uZ8QB5CO8mBS"
      },
      "outputs": [],
      "source": [
        "pattern = re.compile(\"$15\")"
      ]
    },
    {
      "cell_type": "code",
      "execution_count": null,
      "metadata": {
        "id": "AjSKS3LA8mBS"
      },
      "outputs": [],
      "source": [
        "pattern.search(txt)"
      ]
    },
    {
      "cell_type": "markdown",
      "metadata": {
        "id": "MlGG4MT28mBS"
      },
      "source": [
        "### No match found. Why?\n",
        "\n",
        "`$` is a metacharacter and has a special meaning for regex engine. Here, we want to treat it like a literal.\n",
        "\n",
        "In order to treat a metacharacter like a literal, you need to **escape** it using `\\` character."
      ]
    },
    {
      "cell_type": "code",
      "execution_count": null,
      "metadata": {
        "id": "oc7zgFJU8mBS"
      },
      "outputs": [],
      "source": [
        "pattern = re.compile(\"\\$15\")"
      ]
    },
    {
      "cell_type": "code",
      "execution_count": null,
      "metadata": {
        "id": "2fDl7QIt8mBS",
        "outputId": "44be4310-8645-4696-d230-d465dbe9aaec"
      },
      "outputs": [
        {
          "data": {
            "text/plain": [
              "<_sre.SRE_Match object; span=(16, 19), match='$15'>"
            ]
          },
          "execution_count": 25,
          "metadata": {},
          "output_type": "execute_result"
        }
      ],
      "source": [
        "pattern.search(txt)"
      ]
    },
    {
      "cell_type": "markdown",
      "metadata": {
        "id": "2ASQ0S1x8mBS"
      },
      "source": [
        "In regular expressions, there are twelve metacharacters that should be escaped if they are to be used with their literal meaning:\n",
        "\n",
        "- Backslash `\\`\n",
        "- Caret `^`\n",
        "- Dollar sign `$`\n",
        "- Dot `.`\n",
        "- Pipe symbol `|`\n",
        "- Question mark `?`\n",
        "- Asterisk `*`\n",
        "- Plus sign `+`\n",
        "- Opening parenthesis `(`\n",
        "- Closing parenthesis `)`\n",
        "- Opening square bracket `[`\n",
        "- The opening curly brace `{`"
      ]
    },
    {
      "cell_type": "markdown",
      "metadata": {
        "id": "IUWHEc138mBT"
      },
      "source": [
        "![](images/memes/meme4.jpg)"
      ]
    }
  ]
}